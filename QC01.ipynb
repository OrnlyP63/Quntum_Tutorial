{
 "cells": [
  {
   "cell_type": "markdown",
   "id": "6974e706-86d9-4479-8888-80cbd7c90d0b",
   "metadata": {},
   "source": [
    "# Quantum Computing (บทที่ 1)\n",
    "\n",
    "การคำนวณเชิงควอนตัม (Quantum Computing) คือ การใช้คุณสมบัติจาก กลศาสตร์ควอนตัม (Quantum Machanic) เช่น superposition, entanglement, quantum tunneling เพื่อเพิ่มประสิทธิภาพในการคำนวณ ซึ่งลดเวลาในการคำนวณจากคอมพิวเตอร์ปกติอย่างมาก"
   ]
  },
  {
   "cell_type": "markdown",
   "id": "3fc8041b-25b0-4e69-9185-1859fa1a36bf",
   "metadata": {},
   "source": [
    "การคำนวณเชิงควอนตัมจะใช้ สถานะทางควอนตัน (Quantum states) ที่แสดงด้วย เวคเตอร์ของจำนวนเชิงซ้อน (Complex vecotr) เพื่อการคำนวณแทนที่จะใช้ เลขฐานสอง (Binary number) เหมือนคอนพิวเตอร์ปกติ"
   ]
  },
  {
   "cell_type": "markdown",
   "id": "f18b627b-8515-42de-a656-36b16c5256bd",
   "metadata": {
    "tags": []
   },
   "source": [
    "## 1.1 The qubit\n",
    "\n",
    "คิวบิต (qubit) ย่อมาจาก ควอนตัมบิต (Quantum bit) ซึ่งเป็นตัวแทน สถานะทางควอนตัม สามารถเขียนให้อยู่ในรูป เวคเตอร์ของจำนวนเชิงซ้อน 2 มิติ ซึ่งจะเรียกว่า สถานะ 1 คิวบิต (Single qubit state) นิยามได้ดังนี้\n",
    "\n",
    "$$\\lvert\\phi\\rangle = \\alpha\\lvert 0\\rangle + \\beta\\lvert 1\\rangle$$\n",
    "\n",
    "โดยที่ $\\alpha, \\beta$ เป็นจำนวนเชิงซ้อน (Complex number) ซึ่ง $|\\alpha|^2 + |\\beta|^2 = 1$ \n",
    "\n",
    "และ $\\lvert 0\\rangle = \\begin{bmatrix}1\\\\0\\end{bmatrix}, \\lvert 1\\rangle = \\begin{bmatrix}0\\\\1\\end{bmatrix}$ (ถูกเรียกว่า ket 0, ket 1 ตามลำดับ)\n",
    "\n",
    "เราจะสังเกตเห็นได้ว่า $\\lvert\\phi\\rangle$ เป็นการผสมของสถานะ $\\lvert 0\\rangle, \\lvert 1\\rangle$ หรือ สถานะบิตสตริง (bit-string states)\n",
    "\n",
    "และ $|\\alpha|^2$ คือค่าความน่าจะเป็น ที่ $\\phi$ จะคืนค่าสถานะเป็น $\\lvert 0\\rangle$ เมื่อ $\\phi$ ถูกวัด (Measuring a qubit)\n",
    "\n",
    "และ $|\\beta|^2$ คือค่าความน่าจะเป็น ที่ $\\phi$ จะคืนค่าสถานะเป็น $\\lvert 1\\rangle$  เมื่อ $\\phi$ ถูกวัด (Measuring a qubit)"
   ]
  },
  {
   "cell_type": "code",
   "execution_count": 1,
   "id": "f65d816f-a7ad-491d-8e3c-b729269d8924",
   "metadata": {},
   "outputs": [],
   "source": [
    "import numpy as np #lib สำหรับสร้าง เวคเตอร์และการคำนวณเชิงเวคเตอร์"
   ]
  },
  {
   "cell_type": "code",
   "execution_count": 2,
   "id": "45e888cc-9a73-4b2d-b335-ff010a26bcbe",
   "metadata": {},
   "outputs": [],
   "source": [
    "#มาลองสร้าง qubit กัน\n",
    "\n",
    "#สร้าง ket\n",
    "ket_0 = np.array([[1], [0]])\n",
    "ket_1 = np.array([[0], [1]])\n",
    "\n",
    "#สร้าง alpha, beta\n",
    "alpha = 1 / (2**0.5)\n",
    "beta = 1 / (2**0.5)"
   ]
  },
  {
   "cell_type": "code",
   "execution_count": 3,
   "id": "62de2d1b-d3ee-4a08-8fbf-f177a430fcf7",
   "metadata": {},
   "outputs": [
    {
     "data": {
      "text/plain": [
       "0.9999999999999998"
      ]
     },
     "execution_count": 3,
     "metadata": {},
     "output_type": "execute_result"
    }
   ],
   "source": [
    "#พิสูจน์ว่า  alpha ** 2 + beta ** 2 == 1\n",
    "alpha ** 2 + beta ** 2"
   ]
  },
  {
   "cell_type": "code",
   "execution_count": 4,
   "id": "07a6518d-b549-4f72-84cf-d22607b7136f",
   "metadata": {},
   "outputs": [
    {
     "name": "stdout",
     "output_type": "stream",
     "text": [
      "[[0.70710678]\n",
      " [0.70710678]]\n"
     ]
    }
   ],
   "source": [
    "#สร้าง qubit  phi\n",
    "phi = alpha * ket_0 + beta * ket_1\n",
    "print(phi)"
   ]
  },
  {
   "cell_type": "markdown",
   "id": "6d613a9a-1f30-4847-94ed-3d1e74931bdc",
   "metadata": {},
   "source": [
    "# 1.2 System of qubits\n",
    "\n",
    "สถานะควอนตัม(Quantum states) ไดๆ เป็นเวคเตอร์มาตรฐาน (normalized vector) ในปริภูมิเชิงซ้อน (complex vector space) ทำให้ผลรวมความน่าจะเป็นของแต่ละสถานะมีผลรวมเท่ากับ $1$\n",
    "\n",
    "ในควอนตัมคอมพิวเตอร์ (Quantum Computer) สามารถมีจำนวนคิวบิตได้มากกว่า $1$ เรียกว่า ระบบของคิวบิต (System of qubits) ซึ่งทำให้เกิดสถานะทางควอนตัมเพิ่มขึ้นมาเป็น $2^n$ เมื่อ $n$ เป็นจำนวนคิวบิตในระบบคิวบิต\n",
    "\n",
    "เราสามารถสร้างสถานะทางควอนตัมของระบบคิวบิตที่มีสองคิวบิต โดยใช้ เทนเซอร์โปรดัคท์ (tensor product, $\\otimes$) นิยามได้ดังนี้\n",
    "\n",
    "\n",
    "ให้ $\\lvert\\phi\\rangle = \\begin{bmatrix}\\alpha\\\\ \\beta\\end{bmatrix}$ และ\n",
    "$\\lvert\\acute{\\phi}\\rangle = \\begin{bmatrix}\\acute{\\alpha}\\\\ \\acute{\\beta}\\end{bmatrix}$ แล้ว\n",
    "\n",
    "$$\\lvert\\phi\\rangle\\otimes\\lvert\\acute{\\phi}\\rangle =  \\begin{bmatrix}\\alpha\\\\ \\beta\\end{bmatrix} \\otimes\\begin{bmatrix}\\acute{\\alpha}\\\\ \\acute{\\beta}\\end{bmatrix} = \\begin{bmatrix}\\alpha\\acute{\\alpha}\\\\ \\alpha\\acute{\\beta}\\\\ \\beta\\acute{\\alpha}\\\\ \\beta\\acute{\\beta}\\end{bmatrix}$$\n",
    "\n",
    "โดยทั่วไปเราสามารถเขียนเทนเซอร์โปรดัคท์ของสองคิวบิตแบบสั้นได้ดังนี้ $\\lvert\\phi\\rangle\\otimes\\lvert\\acute{\\phi}\\rangle = \\lvert \\phi\\acute{\\phi}\\rangle$ ซึ่งการคำนวณเทนเซอร์โปรดัคท์ของ $2$ คิวบิตถูกเรียกว่า Kronecker product\n",
    "\n",
    "ตัวอย่างโค้ด \n",
    "1. จงคำนวณ $\\lvert 10 \\rangle$\n",
    "2. จงคำนวณ $\\lvert 000 \\rangle$"
   ]
  },
  {
   "cell_type": "code",
   "execution_count": 5,
   "id": "fe9a4e19-5665-44fb-91da-10651b7cad5b",
   "metadata": {},
   "outputs": [
    {
     "data": {
      "text/plain": [
       "array([[0],\n",
       "       [1],\n",
       "       [0],\n",
       "       [0]])"
      ]
     },
     "execution_count": 5,
     "metadata": {},
     "output_type": "execute_result"
    }
   ],
   "source": [
    "#ข้อ 1\n",
    "np.kron(ket_0,ket_1)"
   ]
  },
  {
   "cell_type": "code",
   "execution_count": 6,
   "id": "6bf6ff51-f655-4f59-bf28-090550a6ed17",
   "metadata": {},
   "outputs": [
    {
     "data": {
      "text/plain": [
       "array([[1],\n",
       "       [0],\n",
       "       [0],\n",
       "       [0],\n",
       "       [0],\n",
       "       [0],\n",
       "       [0],\n",
       "       [0]])"
      ]
     },
     "execution_count": 6,
     "metadata": {},
     "output_type": "execute_result"
    }
   ],
   "source": [
    "#ข้อ 2\n",
    "np.kron(np.kron(ket_0, ket_0), ket_0)"
   ]
  },
  {
   "cell_type": "markdown",
   "id": "4d000a25-e54d-4166-a676-c84f8abc69b3",
   "metadata": {},
   "source": [
    "สถานะใหม่ของระบบของคิวบิตที่ถูกนิยามด้วยการคูณเทนเซอร์โปรดัคท์ของสถานะทั้งหมดในระบบ จะถูกเรียกว่า สถานะร่วม (joint state)\n",
    "\n",
    "ตัวอย่างของ สถานะร่วม\n",
    "\n",
    "กำหนดให้ $\\lvert \\gamma_j\\rangle = \\alpha_j\\lvert 0\\rangle + \\beta_j \\lvert 1\\rangle$ สำหรับ $j = 1,2,3$ สถานะร่วมของสามคิวบิตนี้คือ\n",
    "\n",
    "$\\begin{align}\\lvert \\gamma_1\\gamma_2\\gamma_3\\rangle &=\n",
    "\\lvert\\gamma_1\\rangle\\otimes\\lvert\\gamma_2\\rangle\\otimes\\lvert\\gamma_3\\rangle\\\\\n",
    "&=\\alpha_1\\alpha_2\\alpha_3\\lvert 000\\rangle+\n",
    "\\alpha_1\\alpha_2\\beta_3\\lvert 001\\rangle+\n",
    "\\alpha_1\\beta_2\\alpha_3\\lvert 010\\rangle+\n",
    "\\beta_1\\alpha_2\\alpha_3\\lvert 100\\rangle\\\\\n",
    "&+\\beta_1\\beta_2\\beta_3\\lvert 111\\rangle+\n",
    "\\beta_1\\beta_2\\alpha_3\\lvert 110\\rangle+\n",
    "\\beta_1\\alpha_2\\beta_3\\lvert 101\\rangle+\n",
    "\\alpha_1\\beta_2\\beta_3\\lvert 011\\rangle\n",
    "\\end{align}$\n",
    "\n",
    "จะเห็นได้ว่า ระบบคิวบิตข้างต้นมี $3$ คิวบิตทำให้มีสถานะร่วม ซึ่งเกิดจากผลรวมของสถานะตามสมการทั้งหมด $2^3 = 8$ สถานะ โดยทั้ง $8$ สถานะเป็น เวคเตอร์เบสิส (basis vector) (กล่าวคือเป็นเวคเตอร์ขนาด 1 หน่วย(unit vector) และเวคเตอร์ทั้ง $8$ ตั้งฉากกัน (orthogonal)) เราจะเรียกสถานะทั้ง $8$ นี้เป็น สถานะเบสิส (basis states)\n",
    "\n",
    "และแต่ละสถานะมีค่าสัมประสิทธิ์ของตัวเอง ซึ่งนำผลรวมทั้งหมดของค่าสัมบูรณ์ของสัมประสิทธิ์ยกกำลังสองจะมีค่าเท่ากับ $1$ \n",
    "\n",
    "ตัวอย่างโค้ด \n",
    "\n",
    "3. กำหนดให้ $\\lvert\\phi\\rangle = \\frac{1}{\\sqrt{2}}\\lvert 0\\rangle + \\frac{1}{\\sqrt{2}}\\lvert 1\\rangle$ จงคำนวณ $\\lvert\\phi 0 1\\rangle$ และเช็คว่าผลรวมทั้งหมดของค่าสัมบูรณ์ของสัมประสิทธิ์ยกกำลังสองมีค่าเท่ากับ $1$ หรือไม่"
   ]
  },
  {
   "cell_type": "code",
   "execution_count": 7,
   "id": "c7286e3a-8ef5-47a4-bb1c-660399ce9c0f",
   "metadata": {},
   "outputs": [],
   "source": [
    "#ข้อ 3\n",
    "result = np.kron(np.kron(phi, ket_0), ket_1)"
   ]
  },
  {
   "cell_type": "code",
   "execution_count": 8,
   "id": "55e76563-d4f7-472e-8735-fed05cbf440c",
   "metadata": {},
   "outputs": [
    {
     "data": {
      "text/plain": [
       "array([[0.        ],\n",
       "       [0.70710678],\n",
       "       [0.        ],\n",
       "       [0.        ],\n",
       "       [0.        ],\n",
       "       [0.70710678],\n",
       "       [0.        ],\n",
       "       [0.        ]])"
      ]
     },
     "execution_count": 8,
     "metadata": {},
     "output_type": "execute_result"
    }
   ],
   "source": [
    "result"
   ]
  },
  {
   "cell_type": "code",
   "execution_count": 9,
   "id": "92fdd5af-ebf8-4fea-ade2-771d9380b2f6",
   "metadata": {},
   "outputs": [
    {
     "data": {
      "text/plain": [
       "array([[0. ],\n",
       "       [0.5],\n",
       "       [0. ],\n",
       "       [0. ],\n",
       "       [0. ],\n",
       "       [0.5],\n",
       "       [0. ],\n",
       "       [0. ]])"
      ]
     },
     "execution_count": 9,
     "metadata": {},
     "output_type": "execute_result"
    }
   ],
   "source": [
    "np.abs(result) ** 2"
   ]
  },
  {
   "cell_type": "code",
   "execution_count": 10,
   "id": "922eab0e-ec80-48f3-9865-793cc37aaf01",
   "metadata": {},
   "outputs": [
    {
     "data": {
      "text/plain": [
       "array([1.])"
      ]
     },
     "execution_count": 10,
     "metadata": {},
     "output_type": "execute_result"
    }
   ],
   "source": [
    "sum(np.abs(result) ** 2)"
   ]
  },
  {
   "cell_type": "markdown",
   "id": "91025f3e-29eb-47e8-9dc6-d2e1a6fe6f90",
   "metadata": {},
   "source": [
    "# 1.3 Superposition and entanglement\n",
    "\n",
    "จากบท 1.2 จะพบว่าเราสามารถสร้าง สถานะร่วม $n$ คิวบิต ได้โดยหาผลคูณเทนเซอร์โปรดัคท์ของ $n$ คิวบิต อย่างไรก็ตามจะมีบาง สถานะควอนตัม ซึ่งไม่สามารถเขียนแสดงให้อยู่ในรูปของผลคูณเทนเซอร์โปรดัคท์ของ $n$ คิวบิตได้ ซึ่งเราจะเรียกมันว่า สถานะพัวพัน(entangled states) ยกตัวอย่างเช่น\n",
    "\n",
    "$$\\lvert \\Psi\\rangle = \\frac{1}{\\sqrt{2}}(\\lvert000\\rangle + \\lvert111\\rangle)$$\n",
    "\n",
    "การพัวพัน(Entanglement) สามารถสร้าง $2^n$ มิติในปริภูมิเชิงซ้อนโดยใช้เพียงจำนวน $n$ คิวบิตเพื่อให้เราใช้คำนวณในมัน ทำให้คอวนตัมคอมพิวเตอร์มีความสามารถบางอย่างมากกว่าคอมพิวเตอร์ทั่วไป\n",
    "\n",
    "ตัวอย่างโค้ด \n",
    "\n",
    "4. จงสร้าง สถานะพัวพัน $\\lvert \\Psi\\rangle = \\frac{1}{\\sqrt{2}}(\\lvert000\\rangle + \\lvert111\\rangle)$"
   ]
  },
  {
   "cell_type": "code",
   "execution_count": 11,
   "id": "27702bb2-6fd3-43ee-993f-e6cd3307ebac",
   "metadata": {},
   "outputs": [
    {
     "name": "stdout",
     "output_type": "stream",
     "text": [
      "[[0.70710678]\n",
      " [0.        ]\n",
      " [0.        ]\n",
      " [0.        ]\n",
      " [0.        ]\n",
      " [0.        ]\n",
      " [0.        ]\n",
      " [0.70710678]]\n"
     ]
    }
   ],
   "source": [
    "Psi = 1/np.sqrt(2) * (np.kron(np.kron(ket_0, ket_0), ket_0) + np.kron(np.kron(ket_1, ket_1), ket_1))\n",
    "print(Psi)"
   ]
  },
  {
   "cell_type": "markdown",
   "id": "11a13c77-1cd8-4237-a14a-9596215e30d4",
   "metadata": {},
   "source": [
    "# 1.4 Inner and outer products\n",
    "- สังยุคเชิงซ้อน (complex conjugte)\n",
    "\n",
    "กำหนดให้ $\\lvert\\phi\\rangle = \\begin{bmatrix}\\alpha\\\\ \\beta\\end{bmatrix}$ (ถูกเรียกว่า ket), จะได้ว่า   $\\langle\\phi\\rvert = [\\alpha^*\\quad\\beta^*]$ (ถูกเรียกว่า bra) โดย $^*$ คือการสังยุคเชิงซ้อน\n",
    "- อินเนอร์โปรดัคท์ (Inner product) คือ การซ้อนทับ(overlaping) กันระหว่างสองสถานะควอนตัม\n",
    "\n",
    "กำหนดให้ $\\lvert\\phi\\rangle = \\alpha\\lvert0\\rangle + \\beta\\lvert1\\rangle$ และ $\\lvert\\psi\\rangle = \\gamma\\lvert0\\rangle + \\delta\\lvert1\\rangle$ การทับซ้อนของสองสถานะคือ \n",
    "\n",
    "$$\\langle\\psi\\lvert\\phi\\rangle =[\\gamma^*\\quad\\delta^*]\\begin{bmatrix}\\alpha\\\\ \\beta\\end{bmatrix}= \\gamma^*\\alpha + \\delta^*\\beta$$\n",
    "\n",
    "- เอาท์เตอร์โปรดัคท์ (outer product) เป็นการดำเนินการ(operation) ที่สำคัญตัวหนึ่งที่มีผลลัพธ์เป็นเมทริกซ์(Matrix)  \n",
    "\n",
    "กำหนดให้ $\\lvert\\phi\\rangle = \\alpha\\lvert0\\rangle + \\beta\\lvert1\\rangle$ และ $\\lvert\\psi\\rangle = \\gamma\\lvert0\\rangle + \\delta\\lvert1\\rangle$ เอาท์เตอร์โปรดัคท์นิยามโดย \n",
    "\n",
    "$$\\lvert\\psi\\rangle\\langle\\phi\\rvert =\\begin{bmatrix}\\gamma\\\\ \\delta\\end{bmatrix}[\\alpha^*\\quad\\beta^*]= \\begin{bmatrix}\\gamma\\alpha^* & \\gamma\\beta^* \\\\ \\delta\\alpha^* &  \\delta\\beta^*\\end{bmatrix}$$\n",
    "\n",
    "นอกจากนี้ เมทริกซ์ไดๆ สามารถเขียนให้อยู่ในรูปผลรวมของการดำเนินการเอาท์เตอร์โปรดัคท์ได้\n",
    "\n",
    "ยกตัวอย่างเช่น\n",
    "\n",
    "$$A = \\begin{bmatrix}A_{00} & A_{01}\\\\A_{10} &A_{11}\\end{bmatrix} = \n",
    "A_{00}\\lvert0\\rangle\\langle0\\rvert+\n",
    "A_{01}\\lvert0\\rangle\\langle1\\rvert+\n",
    "A_{10}\\lvert1\\rangle\\langle0\\rvert+\n",
    "A_{11}\\lvert1\\rangle\\langle1\\rvert\n",
    "$$\n",
    "\n",
    "การแปลงเมทริกซ์ให้อยู่ในรูปผลรวมของการดำเนินการเอาท์เตอร์โปรดัคท์ ทำให้เราสามารถทำการคูณเมทริกซ์กับสถานะควอนตัมได้ ดังแสดงในตัวอย่างนี้\n",
    "\n",
    "$$\\begin{align}\n",
    "A\\lvert\\phi\\rangle &= \n",
    "A_{00}\\lvert0\\rangle\\langle0\\rvert\\phi\\rangle+\n",
    "A_{01}\\lvert0\\rangle\\langle1\\rvert\\phi\\rangle+\n",
    "A_{10}\\lvert1\\rangle\\langle0\\rvert\\phi\\rangle+\n",
    "A_{11}\\lvert1\\rangle\\langle1\\rvert\\phi\\rangle\\\\\\\\\n",
    "&=\n",
    "A_{00}\\lvert0\\rangle\\alpha+\n",
    "A_{01}\\lvert0\\rangle\\beta+\n",
    "A_{10}\\lvert1\\rangle\\alpha+\n",
    "A_{11}\\lvert1\\rangle\\beta\n",
    "\\\\\\\\\n",
    "&=\n",
    "\\begin{bmatrix}\n",
    "A_{00}\\alpha + A_{01}\\beta\\\\\n",
    "A_{10}\\alpha + A_{11}\\beta|\n",
    "\\end{bmatrix}\n",
    "\\end{align}\n",
    "$$\n",
    "\n",
    "ตัวอย่างโค้ด\n",
    "\n",
    "5. กำหนดให้ $\\lvert\\phi\\rangle = \\frac{1}{\\sqrt{2}}\\lvert 0\\rangle + \\frac{1}{\\sqrt{2}}\\lvert 1\\rangle$ และ $H = \\frac{1}{\\sqrt{2}}\\begin{bmatrix}1 & 1\\\\1 & -1\\end{bmatrix}$ จงคำนวณ $H\\lvert\\phi\\rangle$"
   ]
  },
  {
   "cell_type": "code",
   "execution_count": 12,
   "id": "edc5e095-f586-43b4-885f-85a140499b8b",
   "metadata": {},
   "outputs": [],
   "source": [
    "H = 1/2**0.5 * np.array([[1, 1],\n",
    "                         [1,-1]])"
   ]
  },
  {
   "cell_type": "code",
   "execution_count": 13,
   "id": "d9017a1d-8bc4-4e00-a5da-a2b1cd2f9cd4",
   "metadata": {},
   "outputs": [
    {
     "data": {
      "text/plain": [
       "array([[1.],\n",
       "       [0.]])"
      ]
     },
     "execution_count": 13,
     "metadata": {},
     "output_type": "execute_result"
    }
   ],
   "source": [
    "H @ phi"
   ]
  },
  {
   "cell_type": "markdown",
   "id": "9ca27ac8-84d9-498e-8461-3363163737cb",
   "metadata": {},
   "source": [
    "# 1.5 Measurement\n",
    "\n",
    "การวัด(Measurement) คือการแปลง ข้อมูลเชิงควอนตัม(Quantum information) ที่อยู่ในระบบควอนตัมซึ่งอยู่ในรูปเวคเตอร์ให้อยู่ในรูปของ ข้อมูลดั้งเดิม(Classical information) โดยมีผลลัพธ์เป็นความน่าจะเป็นว่า**สถานะควอนตัมที่สนใจ**จะกลายเป็น**สถานะที่ต้องการวัด**เท่าไดเมื่อถูกวัด\n",
    "\n",
    "โดยวิธีการวัดเราจะใช้ อินเนอร์โปรดัคท์กับสถานะ 1 คิวบิต โดย\n",
    "- ความน่าจะเป็นที่ สถานะ $\\lvert\\phi\\rangle$ จะกลายเป็น $\\lvert0\\rangle$ เมื่อถูกวัด คือ $|\\langle0\\rvert\\phi\\rangle|^2$\n",
    "\n",
    "- ความน่าจะเป็นที่ สถานะ $\\lvert\\phi\\rangle$ จะกลายเป็น $\\lvert1\\rangle$ เมื่อถูกวัด คือ $|\\langle1\\rvert\\phi\\rangle|^2$\n",
    "\n",
    "ดังนั้นการวัดความน่าจะเป็นสามารถแทนด้วย ค่าสัมบูรณ์กำลังสอง(squared absolute values) ของอินเนอร์โปรดัคท์\n",
    "\n",
    "ต่อไปเราจะพิจารณาตัวอย่างที่อยู่ใรูปทั่วไปมากขึ้น สมมติให้ $\\lvert\\Psi\\rangle$ เป็นสถานะ 3 คิวบิตและต้องการที่จะวัดความน่าจะเป็นว่าคิวบิตตัวแรกจะเป็น $\\lvert0\\rangle$ คือเท่าไร ซึ่งสามารถหาได้ตามสมการนี้\n",
    "\n",
    "$$\\sum_{(x_2,x_3) \\in \\{0,1\\}^2} |\\langle0x_2x_3\\lvert\\Psi\\rangle|^2$$\n",
    "\n",
    "และสถานะของระบบหลังถูกวัด สามารถคำนวณได้จาก การนอมอไรซ์(normalizing) สถานะที่ถูกวัด โดย\n",
    "\n",
    "$$\\sum_{(x_2,x_3) \\in \\{0,1\\}^2} \\langle0x_2x_3\\lvert\\Psi\\rangle\\lvert0x_2x_3\\rangle$$\n",
    "\n",
    "ตัอย่างโค้ด\n",
    "\n",
    "6. กำหนดให้ $\\lvert \\Psi\\rangle = \\frac{1}{\\sqrt{2}}(\\lvert000\\rangle + \\lvert111\\rangle)$ จงหาความน่าจะเป็นที่คิวบิตตัวแรกเป็น $0$ และทำการนอมอไรซ์สถานะ $\\Psi$"
   ]
  },
  {
   "cell_type": "code",
   "execution_count": 14,
   "id": "4c99cc1e-0cdf-43bb-96bd-b6370a478612",
   "metadata": {},
   "outputs": [],
   "source": [
    "from itertools import product"
   ]
  },
  {
   "cell_type": "code",
   "execution_count": 15,
   "id": "e3238ba2-ad7d-4688-a4bd-5e9f960f58b7",
   "metadata": {},
   "outputs": [],
   "source": [
    "def ket(list_num):\n",
    "    I = 1\n",
    "    for i in list_num:\n",
    "        if i == 0:\n",
    "            I = np.kron(I, ket_0)\n",
    "        else:\n",
    "            I = np.kron(I, ket_1)\n",
    "    return I"
   ]
  },
  {
   "cell_type": "code",
   "execution_count": 16,
   "id": "3572ba62-9e91-48ae-9aaf-1e53541d4b97",
   "metadata": {},
   "outputs": [],
   "source": [
    "ket_list = [ket(d) for d in product([0,1], [0,1], [0,1]) if d[0]==0]"
   ]
  },
  {
   "cell_type": "code",
   "execution_count": 17,
   "id": "6e332697-1059-4c07-80f3-20b32f812d1c",
   "metadata": {},
   "outputs": [
    {
     "name": "stdout",
     "output_type": "stream",
     "text": [
      "[[0.5]]\n"
     ]
    }
   ],
   "source": [
    "Prop = sum([abs(k.T @ Psi)**2 for k in ket_list])\n",
    "print(Prop)"
   ]
  },
  {
   "cell_type": "code",
   "execution_count": 18,
   "id": "739e76f4-2716-414b-8a1f-c7feb17bf2b0",
   "metadata": {},
   "outputs": [
    {
     "name": "stdout",
     "output_type": "stream",
     "text": [
      "[[0.70710678]\n",
      " [0.        ]\n",
      " [0.        ]\n",
      " [0.        ]\n",
      " [0.        ]\n",
      " [0.        ]\n",
      " [0.        ]\n",
      " [0.        ]]\n"
     ]
    }
   ],
   "source": [
    "after_state = sum([k.T @ Psi * k for k in ket_list])\n",
    "print(after_state)"
   ]
  },
  {
   "cell_type": "markdown",
   "id": "a959f13f-6186-4abc-8a7a-d83eddc6fc13",
   "metadata": {},
   "source": [
    "#  1.6 Unitary transformations and gates\n",
    "\n",
    "- ยูนิทารีเมทริกซ์(Unitary matrix) \n",
    "\n",
    "ให้ $U$ เมทริกซ์ที่สมาชิกเป็นจำนวนเชิงซ้อน $U$ เป็นยูนิทารีเมทริกซ์ถ้า\n",
    "\n",
    "$$UU^\\dagger = U^\\dagger U = I$$\n",
    "\n",
    "เมื่อ $U^\\dagger$ เป็น เมทริกซ์สลับเปลี่ยนสังยุค(transposed, complex conjugate matrix)ของ $U$ และ $I$ คือ เมทริกซ์เอกลักษณ์(Identity matrix)\n",
    "\n",
    "- การแปลงยูนิทารี(Unitary transformation) \n",
    "    * การแปลงยูนิทารีเป็นยูนิทารีเมทริกซ์\n",
    "    * คิวบิตหรือระบบของคิวบิต จะเกิดเปลี่ยนสถานะของมันเองได้โดยการผ่าน อนุกรมของการแปลงยูนิทารี\n",
    "    \n",
    "กำหนดให้ คิวบิต $\\lvert\\phi\\rangle = \\alpha\\lvert0\\rangle + \\beta\\lvert1\\rangle$ และ $U$ คือการแปลงยูนิทารีสำหรับหนึ่งคิวบิต จะได้ว่า\n",
    "\n",
    "$$\\lvert\\phi\\rangle\\rightarrow U\\lvert\\phi\\rangle = \n",
    "\\begin{bmatrix}\n",
    "U_{00} & U_{01}\\\\\n",
    "U_{10} & U_{11}\n",
    "\\end{bmatrix}\n",
    "\\begin{bmatrix}\n",
    "\\alpha\\\\\n",
    "\\beta\n",
    "\\end{bmatrix} = \n",
    "\\begin{bmatrix}\n",
    "U_{00}\\alpha & U_{01}\\beta\\\\\n",
    "U_{10}\\alpha & U_{11}\\beta\n",
    "\\end{bmatrix}\n",
    "$$\n",
    "\n",
    "สำหรับการสร้างการแปลงยูนิทารีที่มากว่า $1$ คิวบิตเราสามารถใช้เทนเซอร์โปรดัคท์ได้ ตัวอย่างเช่น ถ้าหาก $U_1$ และ $U_2$ เป็นการแปลงยูนิทารีของสองคิวบิตที่ต่างกันแล้ว การแปลงยูนิทารีของทั้งระบบสองคิวบิตนี้คือ $U_1\\otimes U_2$\n",
    "\n",
    "สำหรับ ระบบของ $n$ คิวบิตจะมี การแปลง(ไม่รวมการวัด)ที่เป็นยูนิทารีเมทริกซ์ขนาด $2^n\\times2^n$ และโดยทั่วไปแล้ว การแปลงยูนิทารีของ $n$ คิวบิตคือการประกอบกันของ การแปลงยูนิทารีของ $1$ หรือ $2$ คิวบิตเท่านั้น\n",
    "\n",
    "โดยการเปรียบเทียบแล้ว การแปลงยูนิทารีของ $n$ คิวบิต คล้ายกับ โลจิคเกทแบบดั้งเดิม(Classical logic gate) ที่ใช้แปลงเลขฐานสอง เช่น _Not_ กับ _AND_ แต่การแปลงยูนิทารีของ $n$ คิวบิตจะใช้เพื่อการแปลงระบบคิวบิตที่มีความซับซ้อนขึ้นแทน\n",
    "\n",
    "นอกจากนี้ การแปลงยูนิทารีของ $n$ คิวบิต ยังมีคุณสมบัติ การย้อนกลับได้(Reversible) ซึ่งหมายถึง ข้อมูลเข้า(Inputs) สามารถรู้ได้จาก ข้อมูลออก(Outputs) \n",
    "\n",
    "ยกตัวอย่างเช่น _Not_ เกท ซึ่งเป็นการ\n",
    "- ส่งข้อมูลเข้า $0$ ไปเป็น ข้อมูลอกก $1$ และ \n",
    "- ส่งข้อมูลเข้า $1$ ไปเป็น ข้อมูลอกก $0$ \n",
    "\n",
    "เพียงแค่เรารู้ข้อมูลออกเพียงอย่างเดียวเราก็สามารถที่จะอนุมานข้อมูลเข้าได้\n",
    "\n",
    "ตัวอย่างโค้ด\n",
    "\n",
    "8. กำหนดให้ $U_1 = \\frac{1}{\\sqrt{2}}\\begin{bmatrix}1 & 1\\\\1 & -1\\end{bmatrix}$ และ $U_2 = I_2$ จงพิสูจน์ว่า $U_1$ และ $U_2$ เป็น ยูนิทารีเมทริกซ์\n",
    "\n",
    "9. จงสร้างการแปลงยูนิทารีเมทริกซ์ของ 2 คิวบิตจาก $U_1\\otimes U_2$ และใช้การแปลงข้างต้นแปลง $\\lvert00\\rangle$"
   ]
  },
  {
   "cell_type": "code",
   "execution_count": 19,
   "id": "cb6a47c2-9dc3-49d7-b02d-f598a53f820b",
   "metadata": {},
   "outputs": [],
   "source": [
    "#8.\n",
    "# สร้าง U_1 และ U_2\n",
    "U_1 = 1/2**0.5 * np.array([[1, 1],\n",
    "                           [1,-1]])\n",
    "U_2 = np.eye(2)"
   ]
  },
  {
   "cell_type": "code",
   "execution_count": 20,
   "id": "8f3959b5-4794-4d37-b1af-335e48573253",
   "metadata": {},
   "outputs": [
    {
     "data": {
      "text/plain": [
       "array([[ 1.00000000e+00, -2.23711432e-17],\n",
       "       [-2.23711432e-17,  1.00000000e+00]])"
      ]
     },
     "execution_count": 20,
     "metadata": {},
     "output_type": "execute_result"
    }
   ],
   "source": [
    "U_1.T @ U_1"
   ]
  },
  {
   "cell_type": "code",
   "execution_count": 21,
   "id": "88cd8a18-5d56-4535-80f7-2b8f46bf8d15",
   "metadata": {},
   "outputs": [
    {
     "data": {
      "text/plain": [
       "array([[ 1.00000000e+00, -2.23711432e-17],\n",
       "       [-2.23711432e-17,  1.00000000e+00]])"
      ]
     },
     "execution_count": 21,
     "metadata": {},
     "output_type": "execute_result"
    }
   ],
   "source": [
    "U_1 @ U_1.T"
   ]
  },
  {
   "cell_type": "code",
   "execution_count": 22,
   "id": "4049676c-c4ac-4cb0-906b-d08b8465b18a",
   "metadata": {},
   "outputs": [
    {
     "data": {
      "text/plain": [
       "array([[1., 0.],\n",
       "       [0., 1.]])"
      ]
     },
     "execution_count": 22,
     "metadata": {},
     "output_type": "execute_result"
    }
   ],
   "source": [
    "U_2.T @ U_2"
   ]
  },
  {
   "cell_type": "code",
   "execution_count": 23,
   "id": "c3de795f-62a4-492e-834c-558d1cd07936",
   "metadata": {},
   "outputs": [
    {
     "data": {
      "text/plain": [
       "array([[1., 0.],\n",
       "       [0., 1.]])"
      ]
     },
     "execution_count": 23,
     "metadata": {},
     "output_type": "execute_result"
    }
   ],
   "source": [
    "U_2 @ U_2.T"
   ]
  },
  {
   "cell_type": "code",
   "execution_count": 24,
   "id": "f17ca900-4e91-472c-b6b9-528626f80438",
   "metadata": {},
   "outputs": [],
   "source": [
    "#9.\n",
    "ket_00 = ket([0,0])\n",
    "U = np.kron(U_1, U_2)"
   ]
  },
  {
   "cell_type": "code",
   "execution_count": 25,
   "id": "248ad9e4-4370-45bc-921a-348d3be8ca43",
   "metadata": {},
   "outputs": [
    {
     "data": {
      "text/plain": [
       "array([[1],\n",
       "       [0],\n",
       "       [0],\n",
       "       [0]])"
      ]
     },
     "execution_count": 25,
     "metadata": {},
     "output_type": "execute_result"
    }
   ],
   "source": [
    "ket_00"
   ]
  },
  {
   "cell_type": "code",
   "execution_count": 26,
   "id": "2c5f15cc-e634-42f1-a14d-81365b9adf97",
   "metadata": {},
   "outputs": [
    {
     "data": {
      "text/plain": [
       "array([[0.70710678],\n",
       "       [0.        ],\n",
       "       [0.70710678],\n",
       "       [0.        ]])"
      ]
     },
     "execution_count": 26,
     "metadata": {},
     "output_type": "execute_result"
    }
   ],
   "source": [
    "U @ ket_00"
   ]
  },
  {
   "cell_type": "markdown",
   "id": "a6b32e2a-c3c9-4aa7-889b-3631474d998f",
   "metadata": {},
   "source": [
    "ควอนตัมเกท(Quantum gate) ที่รู้จักกันดีคือ $X$ เกทซึ่งเป็น _NOT_ เกทเวอร์ชั่นควอนตัม \n",
    "\n",
    "นอกจากนี้ยังมี $CNOT$ เกท หรือ \"controlled _NOT_\" เกทซึ่งเป็นเกทที่ใช้กับ $2$ คิวบิตประกอบด้วย บิตเป้าหมาย (target bit) และ บิตควบคุม(control bit) โดยบิตเป้าหมายจะถูก _NOT_ ก็ต่อเมื่อ บิตควบคุมเป็น $1$ \n",
    "\n",
    "$CNOT$ เกทสามารถเขียนให้อยู่ในรูปของเอาท์เตอร์โปรดัคท์ได้ดังนี้\n",
    "\n",
    "$$\\begin{align}\n",
    "CNOT &= \\lvert0\\rangle\\langle0\\rvert\\otimes I + \\lvert1\\rangle\\langle1\\rvert\\otimes X\\\\\n",
    "&= \\lvert00\\rangle\\langle00\\rvert + \\lvert01\\rangle\\langle01\\rvert + \\lvert10\\rangle\\langle11\\rvert + \\lvert11\\rangle\\langle10\\rvert\n",
    "\\end{align}$$\n",
    "\n",
    "โดยทั่วไปสามารถ เขียน \"controlled vesions\" ของ ยูนิทารีเกท $U$ ได้โดย\n",
    "\n",
    "$$CU = \\lvert0\\rangle\\langle0\\rvert\\otimes I + \\lvert1\\rangle\\langle1\\rvert\\otimes U$$\n",
    "\n",
    "ตัวอย่างเช่น $CCNOT$\n",
    "\n",
    "$$CCNOT = \\lvert0\\rangle\\langle0\\rvert\\otimes I + \\lvert1\\rangle\\langle1\\rvert\\otimes CNOT$$"
   ]
  },
  {
   "cell_type": "markdown",
   "id": "f8c4affc-58ce-4141-afab-4b32fd90da97",
   "metadata": {},
   "source": [
    "ตัวอย่างเกทอื่นๆ\n",
    "\n",
    "![](table_gate.PNG)"
   ]
  },
  {
   "cell_type": "markdown",
   "id": "5ebf1bb4-9675-4a68-936f-dc0aa9f5f2b4",
   "metadata": {},
   "source": [
    "ตัวอย่างโค้ด\n",
    "\n",
    "10. จงสร้าง $CNOT$ เกทโดยใช้ สมการ $CU$ "
   ]
  },
  {
   "cell_type": "code",
   "execution_count": 27,
   "id": "beba90e6-c303-423c-947c-9c8adc7bb2c0",
   "metadata": {},
   "outputs": [],
   "source": [
    "X_gate = np.array([[0, 1],\n",
    "                   [1, 0]])\n",
    "\n",
    "I_c = np.eye(X_gate.shape[0])"
   ]
  },
  {
   "cell_type": "code",
   "execution_count": 28,
   "id": "627bfb61-9555-476d-a91d-43abc5906e22",
   "metadata": {},
   "outputs": [],
   "source": [
    "CX = np.kron(ket_0 @ ket_0.T, I_c) + np.kron(ket_1 @ ket_1.T, X_gate)"
   ]
  },
  {
   "cell_type": "code",
   "execution_count": 29,
   "id": "6d5ff926-94b3-46a5-a5b6-bd91484a9e2b",
   "metadata": {},
   "outputs": [
    {
     "data": {
      "text/plain": [
       "array([[1., 0., 0., 0.],\n",
       "       [0., 1., 0., 0.],\n",
       "       [0., 0., 0., 1.],\n",
       "       [0., 0., 1., 0.]])"
      ]
     },
     "execution_count": 29,
     "metadata": {},
     "output_type": "execute_result"
    }
   ],
   "source": [
    "CX"
   ]
  },
  {
   "cell_type": "markdown",
   "id": "cc3919e2-ddd5-4410-87b5-18c4e332f091",
   "metadata": {},
   "source": [
    "#  1.7 Observables and expectation values\n",
    "\n",
    "ในการทดลองทางควอนตัม เมื่อเราต้องการวัดสถานะทางควอนตัมของ $\\lvert\\phi\\rangle = \\alpha\\lvert0\\rangle + \\beta\\lvert1\\rangle$ เราจะไม่สามารถบอกได้ว่าเมื่อเราวัดแล้วเราจะได้สถานะ $\\lvert0\\rangle$ หรือ $\\lvert1\\rangle$ แต่เมื่อเราทำการวัดซ้ำๆ จะทำให้เราสามารถบอกความน่าจะเป็นว่า ควอนตัม $1$ คิวบิตจะเป็น $\\lvert0\\rangle$ อยู่ที่ $|\\alpha|^2$ และ $\\lvert1\\rangle$ อยู่ที่ $|\\beta|^2$\n",
    "\n",
    "สมมติว่าเราเป็นนักทดลองที่ทำการวัดสถานะทางควอนตัมของ $1$ คิวบิต เมื่อวัดสถานะได้ $\\lvert0\\rangle$ จะจดค่า $1$ ลงในสมุดในทางตรงข้ามหากวัดได้ $\\lvert1\\rangle$ จะจดค่า $-1$ ลงไปแทน สุดท้ายเราจะสามารถบอกค่าเฉลี่ยของเลขที่จดลงไปได้คือ\n",
    "\n",
    "$$|\\alpha|^2 - |\\beta|^2$$\n",
    "\n",
    "ในทางควอนตัมเราสามารถแสดงการทดลองและผลการทดลองที่เป็นค่าเฉลี่ยด้วยการใช้ ตัวดำเนินการ(Operator)บางตัว สำหรับการทดลองข้างต้นเราสามารถใช้ตัวดำเนินการได้คือ $Z$ เกท\n",
    "\n",
    "$$Z = \\lvert0\\rangle\\langle0\\rvert - \\lvert1\\rangle\\langle1\\rvert = \n",
    "\\begin{bmatrix}1 & 0\\\\ 0 & -1\\end{bmatrix}$$\n",
    "\n",
    "โดยการวัดผลลัพธ์ค่าเฉลี่ยของ $\\lvert\\phi\\rangle$ สามารถหาได้โดยการหาการทับซ้อนระหว่าง  $\\lvert\\phi\\rangle$ กับ  $Z\\lvert\\phi\\rangle$\n",
    "\n",
    "$$\\langle\\phi\\rvert Z\\lvert\\phi\\rangle = \\langle\\phi\\rvert 0\\rangle\\langle0\\rvert\\phi\\rangle - \\langle\\phi\\rvert1\\rangle \\langle1\\lvert\\phi\\rangle = |\\alpha|^2 - |\\beta|^2$$\n",
    "\n",
    "เราจะเรียกตัวดำเนินการ $Z$ ว่าเป็น observable ของการทดลองนี้ และค่าของ $\\langle\\phi\\rvert Z\\lvert\\phi\\rangle$ ถูกเรียกว่า ค่า expectation แสดงด้วยสัญลักษณ์ $\\langle Z\\rangle$\n",
    "\n",
    "*** กลับมาเติมให้ครบ ***\n",
    "\n",
    "เราจะเห็นได้จากการทดลองก่อนหน้าว่าเราใช้ เวคเตอร์เบสิส ในการสร้าง observable เพื่อให้ได้ผลลัพธ์ตามที่ต้องการได้ และเราสามารถ ใช้จำนวนจริง $\\{a_i\\}$ และเซตเบสิส(basis set) $\\{\\lvert\\Phi_i\\rangle\\}$ สร้าง observable ได้ดังนี้\n",
    "\n",
    "$$O = \\sum_i a_i \\lvert\\Phi_i\\rangle\\langle\\Phi_i\\rvert$$\n",
    "\n",
    "และสามารถคำนวณ ค่า expectation ได้โดย\n",
    "\n",
    "$$\\langle\\psi\\rvert O\\lvert\\psi\\rangle = \\sum_i a_i\\langle\\psi\\rvert \\Phi_i\\rangle\\langle\\Phi_i\\rvert\\psi\\rangle = \\sum_i a_i|\\langle\\Phi_i\\rvert\\psi\\rangle|^2 $$\n",
    "\n",
    "จากที่เราทราบว่า สถานะ $\\{\\lvert\\Phi_i\\rangle\\}$ เป็น orthonormal (ตั้งฉากกัน, ขนานเวคเตอร์เป็น 1) ดั้งนั้นเราสามารถเขียนได้ว่า\n",
    "\n",
    "$$O\\lvert \\Phi_j\\rangle  = \\sum_i a_i\\lvert\\Phi_i\\rangle\\langle\\Phi_i\\lvert\\Phi_j\\rangle = a_j\\lvert\\Phi_j\\rangle$$\n",
    "\n",
    "ถ้าหากเครื่องมือของเราสามารถวัดสถานะได้เพียง เซตเบสิส $\\{\\lvert i\\rangle\\}$ แต่เราต้องการที่จะวัด บนเซตเบสิส $\\{\\lvert \\Phi_i\\rangle\\}$ สามารถแก้ปัญหานี้ได้โดยการใช้ การแปลงยูนิทารี\n",
    "\n",
    "$$U = \\sum_i \\lvert i\\rangle\\langle \\Phi_i\\rvert$$\n",
    "\n",
    "ตอนนี้เมื่อเราวัด $U\\lvert\\psi\\rangle$ บนเบสิสปกติ($\\{\\lvert i\\rangle\\}$) ก็จะเหมือนว่าเราวัด $\\lvert\\psi\\rangle$ บน $\\lvert\\Phi_i\\rangle$ ดังแสดงในสมการ\n",
    "\n",
    "$$|\\langle j\\rvert U\\lvert\\psi\\rangle|^2 = |\\sum_i \\langle j\\lvert i\\rangle\\langle \\Phi_i\\rvert\\psi\\rangle|^2 = |\\langle \\Phi_i\\rvert\\psi\\rangle|^2$$\n",
    "\n",
    "ตัวอย่างโค้ด\n",
    "\n",
    "11. จงสร้าง $Z$ เกท จากเวคเตอร์เบสิส $\\{\\lvert0\\rangle, \\lvert-1\\rangle\\}$"
   ]
  },
  {
   "cell_type": "code",
   "execution_count": 30,
   "id": "44d42cd5-7c93-4f11-a2b2-214176500af6",
   "metadata": {},
   "outputs": [
    {
     "data": {
      "text/plain": [
       "1.0"
      ]
     },
     "execution_count": 30,
     "metadata": {},
     "output_type": "execute_result"
    }
   ],
   "source": [
    "#ขนาด ของเวคเตอร์ต้องเป็น 1\n",
    "np.linalg.norm(ket_0)"
   ]
  },
  {
   "cell_type": "code",
   "execution_count": 31,
   "id": "e189d3c8-e466-46c0-90b0-519d37ef867b",
   "metadata": {},
   "outputs": [
    {
     "data": {
      "text/plain": [
       "1.0"
      ]
     },
     "execution_count": 31,
     "metadata": {},
     "output_type": "execute_result"
    }
   ],
   "source": [
    "ket_neg_1 = -1 * ket_1\n",
    "np.linalg.norm(ket_neg_1)"
   ]
  },
  {
   "cell_type": "code",
   "execution_count": 32,
   "id": "479b80d1-0a14-4fcf-bbcb-06176ecb4dbe",
   "metadata": {},
   "outputs": [
    {
     "data": {
      "text/plain": [
       "array([[0]])"
      ]
     },
     "execution_count": 32,
     "metadata": {},
     "output_type": "execute_result"
    }
   ],
   "source": [
    "#Orthogonal ตั้งฉากกัน dot กันได้ 0\n",
    "ket_neg_1.T @ ket_0"
   ]
  },
  {
   "cell_type": "code",
   "execution_count": 33,
   "id": "f3394d62-ed4f-41d7-bcdc-bb838399f754",
   "metadata": {},
   "outputs": [
    {
     "data": {
      "text/plain": [
       "array([[0]])"
      ]
     },
     "execution_count": 33,
     "metadata": {},
     "output_type": "execute_result"
    }
   ],
   "source": [
    "ket_1.T @ ket_0"
   ]
  },
  {
   "cell_type": "code",
   "execution_count": 34,
   "id": "64856b99-a98d-47b0-a4ea-27eb142e9971",
   "metadata": {},
   "outputs": [
    {
     "name": "stdout",
     "output_type": "stream",
     "text": [
      "[[ 1  0]\n",
      " [ 0 -1]]\n"
     ]
    }
   ],
   "source": [
    "Z = np.kron(ket_0, ket_0.T) + np.kron(ket_1, ket_neg_1.T)\n",
    "print(Z)"
   ]
  },
  {
   "cell_type": "markdown",
   "id": "b3e22ab0-e568-4f9c-a5a7-13ea50b2fa03",
   "metadata": {},
   "source": [
    "#  1.8 Quantum circuits and Quantum algorithms\n",
    "\n",
    "อัลกอริทึมควอนตัม (Quantum algorithm) ส่วนมากจะถูกแสดงให้อยู่ในรูปของ วงจรควอนตัม (Quantum circuits) โดย อินพุต ของ อัลกอริทึมควอนตัม จะเป็นคิวบิตโดยแต่ละอัลกอริทึมจะมีจำนวน อินพุตคิวบิตไม่เท่ากันซึ่งแสดงอยู่ในรูปของ ket และคิวบิตแต่ละตัวจะผ่านเกทหรือการแปลงยูนิทารีซึ่งเรียงเป็นอนุกรม\n",
    "\n",
    "ตัวอย่าง อัลกอริทึมควอนตัมสำหรับการสร้าง สถานะ Bell (Bell state)\n",
    "\n",
    "![](bell.png)\n",
    "[linear map](https://en.wikipedia.org/wiki/Tensor_product)\n",
    "\n",
    "วงจรข้างต้นสามารถเขียนให้อยู่ในรูปของสมการ\n",
    "\n",
    "$$CNOT_{12}(H\\otimes I)\\lvert00\\rangle = \\frac{1}{\\sqrt{2}}(\\lvert00\\rangle+\\lvert11\\rangle)$$\n",
    "\n",
    "ในการกระทำของวงจรจะทำจากซ้ายไปขวาแต่ในการเขียนจะตรงข้ามกันเป็นขวาไปซ้าย\n",
    "ดังนั้นในสมการเราจะทำการ $H\\otimes I\\lvert00\\rangle$ ก่อนดังนี้\n",
    "\n",
    "$$\\begin{align}\n",
    "H\\otimes I\\lvert00\\rangle &= (H\\lvert0\\rangle) \\otimes (I\\lvert0\\rangle)\\\\\\\\\n",
    "&= (\\frac{\\lvert0\\rangle + \\lvert1\\rangle}{\\sqrt{2}})\\otimes \\lvert0\\rangle\\\\\\\\\n",
    "&= \\frac{1}{\\sqrt{2}}(\\lvert00\\rangle + \\lvert10\\rangle)\n",
    "\\end{align}$$\n",
    "\n",
    "จากนั้นจึงทำการ $CNOT$\n",
    "\n",
    "$$\\begin{align}\n",
    "CNOT_{12}(\\frac{1}{\\sqrt{2}}(\\lvert00\\rangle + \\lvert10\\rangle)) &= \\frac{1}{\\sqrt{2}}(CNOT_{12}\\lvert00\\rangle + CNOT_{12}\\lvert10\\rangle)\\\\\\\\\n",
    "&= \\frac{1}{\\sqrt{2}}(\\lvert00\\rangle+\\lvert11\\rangle)\n",
    "\\end{align}$$\n",
    "\n",
    "นอกจากนี้ ในวงจรยังมีการวัดสถานะของ คิวบิตที่ถูกแปลงด้วยเกท เพื่อทำให้คิวบิตอยู่ในสถานะคลาสิคอลบิตเพื่อแสดงผลลัพธ์จากอัลกอริทึม"
   ]
  },
  {
   "cell_type": "markdown",
   "id": "55ac5373-7b46-4816-a54c-24edeae9dfdf",
   "metadata": {},
   "source": [
    "# 1.9 Qiskit \n",
    "\n",
    "Qiskit เป็น package ของภาษาไพธอน(Python) เพื่อใช้สำหรับสร้าง อัลกอริทึมควอนตัม และสร้างแบบจำลองทดสอบผลหรือ นำไปทดสอบจริงบน **คอมพิวเตอร์ควอนตัม** ของ IBM โดยส่วนประกอบในการเขียนโค้ดที่ต้องมีคือ\n",
    "\n",
    "    - Register เป็นส่วนที่เราจะกำหนดว่าอัลกอริทีมของเราจะมี คิวบิตที่ใส่ไปในวงจรเท่าไหร่ และมีส่วนของ คลาสสิคบิตเพื่อวัดผลกี่ตัว\n",
    "    \n",
    "    - Algorithm คือส่วนที่ใช้ใส่เกท หรือการแปลงยูนิทารี\n",
    "    \n",
    "    - Simulation / Execute คือส่วนที่เราจะใช้เพื่อจำลอง ผลลัพธ์บนเครื่องเรา หรือนำอัลกอริทึมเราไปรันจริงๆ บนควอนตัมคอมพิวเตอร์ที่เราเลือก\n",
    "    \n",
    "ตัวอย่างโค้ด\n",
    "\n",
    "12. จงสร้าง Bell state ด้วย IBM qiskit."
   ]
  },
  {
   "cell_type": "code",
   "execution_count": 35,
   "id": "64df1ade-7ac2-4a96-9287-4da75a6f565d",
   "metadata": {},
   "outputs": [
    {
     "name": "stdout",
     "output_type": "stream",
     "text": [
      "\n",
      "Total count for 00 and 11 are: {'00': 507, '11': 493}\n"
     ]
    }
   ],
   "source": [
    "# นำเข้า packages ที่จำเป็นสำหรับการสร้าง Algorithm.\n",
    "import numpy as np\n",
    "from qiskit import  QuantumCircuit, execute, Aer\n",
    "from qiskit.visualization import plot_histogram\n",
    "#Register: สร้าง 2 คิวบิต, 2 คลาสสิคบิต\n",
    "circuit = QuantumCircuit(2, 2)\n",
    "\n",
    "#Algorithm: การสร้าง Bell state \n",
    "#ต้องใช้ H gate บน คิวบิต 0\n",
    "circuit.h(0)\n",
    "\n",
    "#ทำการ CNOT โดยใช้ control บน คิวบิต 0 และ target บน คิวบิต 1\n",
    "circuit.cx(0, 1)\n",
    "\n",
    "#ทำการวัดและส่งค่าไปที่ คลาสสิคบิต\n",
    "circuit.measure([0,1],[0,1])\n",
    "\n",
    "#Simulation/Execute ทำการรันอัลกอริทึม\n",
    "simulator = Aer.get_backend('qasm_simulator')\n",
    "\n",
    "job = execute(circuit, simulator, shots=1000) #ทำการจำลองโดยการวัดซ้ำ 1000 ครั้ง\n",
    "\n",
    "result = job.result() #วัดผลลัพธ์จาก job\n",
    "\n",
    "#แสดงผลลัพธ์\n",
    "counts = result.get_counts(circuit)\n",
    "print(\"\\nTotal count for 00 and 11 are:\",counts)"
   ]
  },
  {
   "cell_type": "code",
   "execution_count": 36,
   "id": "cd8047c5-70b0-4184-a0ad-2ce8142e5523",
   "metadata": {},
   "outputs": [
    {
     "data": {
      "image/png": "[encoded data removed]",
      "text/plain": [
       "<Figure size 327.252x204.68 with 1 Axes>"
      ]
     },
     "execution_count": 36,
     "metadata": {},
     "output_type": "execute_result"
    }
   ],
   "source": [
    "#Visualize circuits แสดงภาพวงจรที่เราสร้างไว้\n",
    "circuit.draw(output='mpl')"
   ]
  },
  {
   "cell_type": "code",
   "execution_count": 37,
   "id": "25f567ea-07ea-4123-8c12-a31edcb5788a",
   "metadata": {},
   "outputs": [
    {
     "data": {
      "image/png": "[encoded data removed]",
      "text/plain": [
       "<Figure size 504x360 with 1 Axes>"
      ]
     },
     "execution_count": 37,
     "metadata": {},
     "output_type": "execute_result"
    }
   ],
   "source": [
    "#โชว์ผลลัพธ์ ด้วยกราฟ\n",
    "plot_histogram(counts)"
   ]
  },
  {
   "cell_type": "code",
   "execution_count": null,
   "id": "593ccfcf-5f97-44d9-9bc8-74e31461ade6",
   "metadata": {},
   "outputs": [],
   "source": []
  }
 ],
 "metadata": {
  "kernelspec": {
   "display_name": "Quantum",
   "language": "python",
   "name": "quantum"
  },
  "language_info": {
   "codemirror_mode": {
    "name": "ipython",
    "version": 3
   },
   "file_extension": ".py",
   "mimetype": "text/x-python",
   "name": "python",
   "nbconvert_exporter": "python",
   "pygments_lexer": "ipython3",
   "version": "3.8.12"
  }
 },
 "nbformat": 4,
 "nbformat_minor": 5
}
