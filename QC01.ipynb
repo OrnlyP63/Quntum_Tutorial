{
 "cells": [
  {
   "cell_type": "markdown",
   "id": "6974e706-86d9-4479-8888-80cbd7c90d0b",
   "metadata": {},
   "source": [
    "# Quantum Computing (บทที่ 1)\n",
    "\n",
    "การคำนวณเชิงควอนตัม (Quantum Computing) คือ การใช้คุณสมบัติจาก กลศาสตร์ควอนตัม (Quantum Machanic) เช่น superposition, entanglement, quantum tunneling เพื่อเพิ่มประสิทธิภาพในการคำนวณ ซึ่งลดเวลาในการคำนวณจากคอมพิวเตอร์ปกติอย่างมาก"
   ]
  },
  {
   "cell_type": "markdown",
   "id": "3fc8041b-25b0-4e69-9185-1859fa1a36bf",
   "metadata": {},
   "source": [
    "การคำนวณเชิงควอนตัมจะใช้ สถานะทางควอนตัน (Quantum states) ที่แสดงด้วย เวคเตอร์ของจำนวนเชิงซ้อน (Complex vecotr) เพื่อการคำนวณแทนที่จะใช้ เลขฐานสอง (Binary number) เหมือนคอนพิวเตอร์ปกติ"
   ]
  },
  {
   "cell_type": "markdown",
   "id": "f18b627b-8515-42de-a656-36b16c5256bd",
   "metadata": {
    "tags": []
   },
   "source": [
    "## 1.1 The qubit\n",
    "\n",
    "คิวบิต (qubit) ย่อมาจาก ควอนตัมบิต (Quantum bit) ซึ่งเป็นตัวแทน สถานะทางควอนตัม สามารถเขียนให้อยู่ในรูป เวคเตอร์ของจำนวนเชิงซ้อน 2 มิติ ซึ่งจะเรียกว่า สถานะ 1 คิวบิต (Single qubit state) นิยามได้ดังนี้\n",
    "\n",
    "$$\\lvert\\phi\\rangle = \\alpha\\lvert 0\\rangle + \\beta\\lvert 1\\rangle$$\n",
    "\n",
    "โดยที่ $\\alpha, \\beta$ เป็นจำนวนเชิงซ้อน (Complex number) ซึ่ง $|\\alpha|^2 + |\\beta|^2 = 1$ \n",
    "\n",
    "และ $\\lvert 0\\rangle = \\begin{bmatrix}1\\\\0\\end{bmatrix}, \\lvert 1\\rangle = \\begin{bmatrix}0\\\\1\\end{bmatrix}$ (ถูกเรียกว่า ket 0, ket 1 ตามลำดับ)\n",
    "\n",
    "เราจะสังเกตเห็นได้ว่า $\\lvert\\phi\\rangle$ เป็นการผสมของสถานะ $\\lvert 0\\rangle, \\lvert 1\\rangle$ หรือ สถานะบิตสตริง (bit-string states)\n",
    "\n",
    "และ $|\\alpha|^2$ คือค่าความน่าจะเป็น ที่ $\\phi$ จะคืนค่าสถานะเป็น $\\lvert 0\\rangle$ เมื่อ $\\phi$ ถูกวัด (Measuring a qubit)\n",
    "\n",
    "และ $|\\beta|^2$ คือค่าความน่าจะเป็น ที่ $\\phi$ จะคืนค่าสถานะเป็น $\\lvert 1\\rangle$  เมื่อ $\\phi$ ถูกวัด (Measuring a qubit)"
   ]
  },
  {
   "cell_type": "code",
   "execution_count": 1,
   "id": "f65d816f-a7ad-491d-8e3c-b729269d8924",
   "metadata": {},
   "outputs": [],
   "source": [
    "import numpy as np #lib สำหรับสร้าง เวคเตอร์และการคำนวณเชิงเวคเตอร์"
   ]
  },
  {
   "cell_type": "code",
   "execution_count": 2,
   "id": "45e888cc-9a73-4b2d-b335-ff010a26bcbe",
   "metadata": {},
   "outputs": [],
   "source": [
    "#มาลองสร้าง qubit กัน\n",
    "\n",
    "#สร้าง ket\n",
    "ket_0 = np.array([[1], [0]])\n",
    "ket_1 = np.array([[0], [1]])\n",
    "\n",
    "#สร้าง alpha, beta\n",
    "alpha = 1 / (2**0.5)\n",
    "beta = 1 / (2**0.5)"
   ]
  },
  {
   "cell_type": "code",
   "execution_count": 3,
   "id": "62de2d1b-d3ee-4a08-8fbf-f177a430fcf7",
   "metadata": {},
   "outputs": [
    {
     "data": {
      "text/plain": [
       "0.9999999999999998"
      ]
     },
     "execution_count": 3,
     "metadata": {},
     "output_type": "execute_result"
    }
   ],
   "source": [
    "#พิสูจน์ว่า  alpha ** 2 + beta ** 2 == 1\n",
    "alpha ** 2 + beta ** 2"
   ]
  },
  {
   "cell_type": "code",
   "execution_count": 4,
   "id": "07a6518d-b549-4f72-84cf-d22607b7136f",
   "metadata": {},
   "outputs": [
    {
     "name": "stdout",
     "output_type": "stream",
     "text": [
      "[[0.70710678]\n",
      " [0.70710678]]\n"
     ]
    }
   ],
   "source": [
    "#สร้าง qubit  phi\n",
    "phi = alpha * ket_0 + beta * ket_1\n",
    "print(phi)"
   ]
  },
  {
   "cell_type": "markdown",
   "id": "6d613a9a-1f30-4847-94ed-3d1e74931bdc",
   "metadata": {},
   "source": [
    "# 1.2 System of qubits\n",
    "\n",
    "สถานะควอนตัม(Quantum states) ไดๆ เป็นเวคเตอร์มาตรฐาน (normalized vector) ในปริภูมิเชิงซ้อน (complex vector space) ทำให้ผลรวมความน่าจะเป็นของแต่ละสถานะมีผลรวมเท่ากับ $1$\n",
    "\n",
    "ในควอนตัมคอมพิวเตอร์ (Quantum Computer) สามารถมีจำนวนคิวบิตได้มากกว่า $1$ เรียกว่า ระบบของคิวบิต (System of qubits) ซึ่งทำให้เกิดสถานะทางควอนตัมเพิ่มขึ้นมาเป็น $2^n$ เมื่อ $n$ เป็นจำนวนคิวบิตในระบบคิวบิต\n",
    "\n",
    "เราสามารถสร้างสถานะทางควอนตัมของระบบคิวบิตที่มีสองคิวบิต โดยใช้ เทนเซอร์โปรดัคท์ (tensor product, $\\otimes$) นิยามได้ดังนี้\n",
    "\n",
    "\n",
    "ให้ $\\lvert\\phi\\rangle = \\begin{bmatrix}\\alpha\\\\ \\beta\\end{bmatrix}$ และ\n",
    "$\\lvert\\acute{\\phi}\\rangle = \\begin{bmatrix}\\acute{\\alpha}\\\\ \\acute{\\beta}\\end{bmatrix}$ แล้ว\n",
    "\n",
    "$$\\lvert\\phi\\rangle\\otimes\\lvert\\acute{\\phi}\\rangle =  \\begin{bmatrix}\\alpha\\\\ \\beta\\end{bmatrix} \\otimes\\begin{bmatrix}\\acute{\\alpha}\\\\ \\acute{\\beta}\\end{bmatrix} = \\begin{bmatrix}\\alpha\\acute{\\alpha}\\\\ \\alpha\\acute{\\beta}\\\\ \\beta\\acute{\\alpha}\\\\ \\beta\\acute{\\beta}\\end{bmatrix}$$\n",
    "\n",
    "โดยทั่วไปเราสามารถเขียนเทนเซอร์โปรดัคท์ของสองคิวบิตแบบสั้นได้ดังนี้ $\\lvert\\phi\\rangle\\otimes\\lvert\\acute{\\phi}\\rangle = \\lvert \\phi\\acute{\\phi}\\rangle$ ซึ่งการคำนวณเทนเซอร์โปรดัคท์ของ $2$ คิวบิตถูกเรียกว่า Kronecker product\n",
    "\n",
    "ตัวอย่างโค้ด \n",
    "1. จงคำนวณ $\\lvert 10 \\rangle$\n",
    "2. จงคำนวณ $\\lvert 000 \\rangle$"
   ]
  },
  {
   "cell_type": "code",
   "execution_count": 5,
   "id": "fe9a4e19-5665-44fb-91da-10651b7cad5b",
   "metadata": {},
   "outputs": [
    {
     "data": {
      "text/plain": [
       "array([[0],\n",
       "       [1],\n",
       "       [0],\n",
       "       [0]])"
      ]
     },
     "execution_count": 5,
     "metadata": {},
     "output_type": "execute_result"
    }
   ],
   "source": [
    "#ข้อ 1\n",
    "np.kron(ket_0,ket_1)"
   ]
  },
  {
   "cell_type": "code",
   "execution_count": 6,
   "id": "6bf6ff51-f655-4f59-bf28-090550a6ed17",
   "metadata": {},
   "outputs": [
    {
     "data": {
      "text/plain": [
       "array([[1],\n",
       "       [0],\n",
       "       [0],\n",
       "       [0],\n",
       "       [0],\n",
       "       [0],\n",
       "       [0],\n",
       "       [0]])"
      ]
     },
     "execution_count": 6,
     "metadata": {},
     "output_type": "execute_result"
    }
   ],
   "source": [
    "#ข้อ 2\n",
    "np.kron(np.kron(ket_0, ket_0), ket_0)"
   ]
  },
  {
   "cell_type": "markdown",
   "id": "4d000a25-e54d-4166-a676-c84f8abc69b3",
   "metadata": {},
   "source": [
    "สถานะใหม่ของระบบของคิวบิตที่ถูกนิยามด้วยการคูณเทนเซอร์โปรดัคท์ของสถานะทั้งหมดในระบบ จะถูกเรียกว่า สถานะร่วม (joint state)\n",
    "\n",
    "ตัวอย่างของ สถานะร่วม\n",
    "\n",
    "กำหนดให้ $\\lvert \\gamma_j\\rangle = \\alpha_j\\lvert 0\\rangle + \\beta_j \\lvert 1\\rangle$ สำหรับ $j = 1,2,3$ สถานะร่วมของสามคิวบิตนี้คือ\n",
    "\n",
    "$\\begin{align}\\lvert \\gamma_1\\gamma_2\\gamma_3\\rangle &=\n",
    "\\lvert\\gamma_1\\rangle\\otimes\\lvert\\gamma_2\\rangle\\otimes\\lvert\\gamma_3\\rangle\\\\\n",
    "&=\\alpha_1\\alpha_2\\alpha_3\\lvert 000\\rangle+\n",
    "\\alpha_1\\alpha_2\\beta_3\\lvert 001\\rangle+\n",
    "\\alpha_1\\beta_2\\alpha_3\\lvert 010\\rangle+\n",
    "\\beta_1\\alpha_2\\alpha_3\\lvert 100\\rangle\\\\\n",
    "&+\\beta_1\\beta_2\\beta_3\\lvert 111\\rangle+\n",
    "\\beta_1\\beta_2\\alpha_3\\lvert 110\\rangle+\n",
    "\\beta_1\\alpha_2\\beta_3\\lvert 101\\rangle+\n",
    "\\alpha_1\\beta_2\\beta_3\\lvert 011\\rangle\n",
    "\\end{align}$\n",
    "\n",
    "จะเห็นได้ว่า ระบบคิวบิตข้างต้นมี $3$ คิวบิตทำให้มีสถานะร่วม ซึ่งเกิดจากผลรวมของสถานะตามสมการทั้งหมด $2^3 = 8$ สถานะ โดยทั้ง $8$ สถานะเป็น เวคเตอร์ฐาน (basis vector) (กล่าวคือเป็นเวคเตอร์ขนาด 1 หน่วย(unit vector) และเวคเตอร์ทั้ง $8$ ตั้งฉากกัน (orthogonal)) เราจะเรียกสถานะทั้ง $8$ นี้เป็น สถานะฐาน (basis states)\n",
    "\n",
    "และแต่ละสถานะมีค่าสัมประสิทธิ์ของตัวเอง ซึ่งนำผลรวมทั้งหมดของค่าสัมบูรณ์ของสัมประสิทธิ์ยกกำลังสองจะมีค่าเท่ากับ $1$ \n",
    "\n",
    "ตัวอย่างโค้ด \n",
    "\n",
    "3. กำหนดให้ $\\lvert\\phi\\rangle = \\frac{1}{\\sqrt{2}}\\lvert 0\\rangle + \\frac{1}{\\sqrt{2}}\\lvert 1\\rangle$ จงคำนวณ $\\lvert\\phi 0 1\\rangle$ และเช็คว่าผลรวมทั้งหมดของค่าสัมบูรณ์ของสัมประสิทธิ์ยกกำลังสองมีค่าเท่ากับ $1$ หรือไม่"
   ]
  },
  {
   "cell_type": "code",
   "execution_count": 7,
   "id": "c7286e3a-8ef5-47a4-bb1c-660399ce9c0f",
   "metadata": {},
   "outputs": [],
   "source": [
    "#ข้อ 3\n",
    "result = np.kron(np.kron(phi, ket_0), ket_1)"
   ]
  },
  {
   "cell_type": "code",
   "execution_count": 8,
   "id": "55e76563-d4f7-472e-8735-fed05cbf440c",
   "metadata": {},
   "outputs": [
    {
     "data": {
      "text/plain": [
       "array([[0.        ],\n",
       "       [0.70710678],\n",
       "       [0.        ],\n",
       "       [0.        ],\n",
       "       [0.        ],\n",
       "       [0.70710678],\n",
       "       [0.        ],\n",
       "       [0.        ]])"
      ]
     },
     "execution_count": 8,
     "metadata": {},
     "output_type": "execute_result"
    }
   ],
   "source": [
    "result"
   ]
  },
  {
   "cell_type": "code",
   "execution_count": 9,
   "id": "92fdd5af-ebf8-4fea-ade2-771d9380b2f6",
   "metadata": {},
   "outputs": [
    {
     "data": {
      "text/plain": [
       "array([[0. ],\n",
       "       [0.5],\n",
       "       [0. ],\n",
       "       [0. ],\n",
       "       [0. ],\n",
       "       [0.5],\n",
       "       [0. ],\n",
       "       [0. ]])"
      ]
     },
     "execution_count": 9,
     "metadata": {},
     "output_type": "execute_result"
    }
   ],
   "source": [
    "np.abs(result) ** 2"
   ]
  },
  {
   "cell_type": "code",
   "execution_count": 10,
   "id": "922eab0e-ec80-48f3-9865-793cc37aaf01",
   "metadata": {},
   "outputs": [
    {
     "data": {
      "text/plain": [
       "array([1.])"
      ]
     },
     "execution_count": 10,
     "metadata": {},
     "output_type": "execute_result"
    }
   ],
   "source": [
    "sum(np.abs(result) ** 2)"
   ]
  },
  {
   "cell_type": "markdown",
   "id": "91025f3e-29eb-47e8-9dc6-d2e1a6fe6f90",
   "metadata": {},
   "source": [
    "# 1.3 Superposition and entanglement\n",
    "\n",
    "จากบท 1.2 จะพบว่าเราสามารถสร้าง สถานะร่วม $n$ คิวบิต ได้โดยหาผลคูณเทนเซอร์โปรดัคท์ของ $n$ คิวบิต อย่างไรก็ตามจะมีบาง สถานะควอนตัม ซึ่งไม่สามารถเขียนแสดงให้อยู่ในรูปของผลคูณเทนเซอร์โปรดัคท์ของ $n$ คิวบิตได้ ซึ่งเราจะเรียกมันว่า สถานะพัวพัน(entangled states) ยกตัวอย่างเช่น\n",
    "\n",
    "$$\\lvert \\Psi\\rangle = \\frac{1}{\\sqrt{2}}(\\lvert000\\rangle + \\lvert111\\rangle)$$\n",
    "\n",
    "การพัวพัน(Entanglement) สามารถสร้าง $2^n$ มิติในปริภูมิเชิงซ้อนโดยใช้เพียงจำนวน $n$ คิวบิตเพื่อให้เราใช้คำนวณในมัน ทำให้คอวนตัมคอมพิวเตอร์มีความสามารถบางอย่างมากกว่าคอมพิวเตอร์ทั่วไป\n",
    "\n",
    "ตัวอย่างโค้ด \n",
    "\n",
    "4. จงสร้าง สถานะพัวพัน $\\lvert \\Psi\\rangle = \\frac{1}{\\sqrt{2}}(\\lvert000\\rangle + \\lvert111\\rangle)$"
   ]
  },
  {
   "cell_type": "code",
   "execution_count": 11,
   "id": "27702bb2-6fd3-43ee-993f-e6cd3307ebac",
   "metadata": {},
   "outputs": [
    {
     "name": "stdout",
     "output_type": "stream",
     "text": [
      "[[0.70710678]\n",
      " [0.        ]\n",
      " [0.        ]\n",
      " [0.        ]\n",
      " [0.        ]\n",
      " [0.        ]\n",
      " [0.        ]\n",
      " [0.70710678]]\n"
     ]
    }
   ],
   "source": [
    "Psi = 1/np.sqrt(2) * (np.kron(np.kron(ket_0, ket_0), ket_0) + np.kron(np.kron(ket_1, ket_1), ket_1))\n",
    "print(Psi)"
   ]
  },
  {
   "cell_type": "markdown",
   "id": "11a13c77-1cd8-4237-a14a-9596215e30d4",
   "metadata": {},
   "source": [
    "# Inner and outer products\n",
    "- สังยุคเชิงซ้อน (complex conjugte)\n",
    "\n",
    "กำหนดให้ $\\lvert\\phi\\rangle = \\begin{bmatrix}\\alpha\\\\ \\beta\\end{bmatrix}$ (ถูกเรียกว่า ket), จะได้ว่า   $\\langle\\phi\\rvert = [\\alpha^*\\quad\\beta^*]$ (ถูกเรียกว่า bra) โดย $^*$ คือการสังยุคเชิงซ้อน\n",
    "- อินเนอร์โปรดัคท์ (Inner product) คือ การซ้อนทับ(overlaping) กันระหว่างสองสถานะควอนตัม\n",
    "\n",
    "กำหนดให้ $\\lvert\\phi\\rangle = \\alpha\\lvert0\\rangle + \\beta\\lvert1\\rangle$ และ $\\lvert\\psi\\rangle = \\gamma\\lvert0\\rangle + \\delta\\lvert1\\rangle$ การทับซ้อนของสองสถานะคือ \n",
    "\n",
    "$$\\langle\\psi\\lvert\\phi\\rangle =[\\gamma^*\\quad\\delta^*]\\begin{bmatrix}\\alpha\\\\ \\beta\\end{bmatrix}= \\gamma^*\\alpha + \\delta^*\\beta$$\n",
    "\n",
    "- เอาท์เตอร์โปรดัคท์ (outer product) เป็นการดำเนินการ(operation) ที่สำคัญตัวหนึ่งที่มีผลลัพธ์เป็นเมทริกซ์(Matrix)  \n",
    "\n",
    "กำหนดให้ $\\lvert\\phi\\rangle = \\alpha\\lvert0\\rangle + \\beta\\lvert1\\rangle$ และ $\\lvert\\psi\\rangle = \\gamma\\lvert0\\rangle + \\delta\\lvert1\\rangle$ เอาท์เตอร์โปรดัคท์นิยามโดย \n",
    "\n",
    "$$\\lvert\\psi\\rangle\\langle\\phi\\rvert =\\begin{bmatrix}\\gamma\\\\ \\delta\\end{bmatrix}[\\alpha^*\\quad\\beta^*]= \\begin{bmatrix}\\gamma\\alpha^* & \\gamma\\beta^* \\\\ \\delta\\alpha^* &  \\delta\\beta^*\\end{bmatrix}$$\n",
    "\n",
    "นอกจากนี้ เมทริกซ์ไดๆ สามารถเขียนให้อยู่ในรูปผลรวมของการดำเนินการเอาท์เตอร์โปรดัคท์ได้\n",
    "\n",
    "ยกตัวอย่างเช่น\n",
    "\n",
    "$$A = \\begin{bmatrix}A_{00} & A_{01}\\\\A_{10} &A_{11}\\end{bmatrix} = \n",
    "A_{00}\\lvert0\\rangle\\langle0\\rvert+\n",
    "A_{01}\\lvert0\\rangle\\langle1\\rvert+\n",
    "A_{10}\\lvert1\\rangle\\langle0\\rvert+\n",
    "A_{11}\\lvert1\\rangle\\langle1\\rvert\n",
    "$$\n",
    "\n",
    "การแปลงเมทริกซ์ให้อยู่ในรูปผลรวมของการดำเนินการเอาท์เตอร์โปรดัคท์ ทำให้เราสามารถทำการคูณเมทริกซ์กับสถานะควอนตัมได้ ดังแสดงในตัวอย่างนี้\n",
    "\n",
    "$$\\begin{align}\n",
    "A\\lvert\\phi\\rangle &= \n",
    "A_{00}\\lvert0\\rangle\\langle0\\rvert\\phi\\rangle+\n",
    "A_{01}\\lvert0\\rangle\\langle1\\rvert\\phi\\rangle+\n",
    "A_{10}\\lvert1\\rangle\\langle0\\rvert\\phi\\rangle+\n",
    "A_{11}\\lvert1\\rangle\\langle1\\rvert\\phi\\rangle\\\\\\\\\n",
    "&=\n",
    "A_{00}\\lvert0\\rangle\\alpha+\n",
    "A_{01}\\lvert0\\rangle\\beta+\n",
    "A_{10}\\lvert1\\rangle\\alpha+\n",
    "A_{11}\\lvert1\\rangle\\beta\n",
    "\\\\\\\\\n",
    "&=\n",
    "\\begin{bmatrix}\n",
    "A_{00}\\alpha + A_{01}\\beta\\\\\n",
    "A_{10}\\alpha + A_{11}\\beta|\n",
    "\\end{bmatrix}\n",
    "\\end{align}\n",
    "$$\n",
    "\n",
    "ตัวอย่างโค้ด\n",
    "\n",
    "3. กำหนดให้ $\\lvert\\phi\\rangle = \\frac{1}{\\sqrt{2}}\\lvert 0\\rangle + \\frac{1}{\\sqrt{2}}\\lvert 1\\rangle$ และ $H = \\frac{1}{\\sqrt{2}}\\begin{bmatrix}1 & 1\\\\1 & -1\\end{bmatrix}$ จงคำนวณ $H\\lvert\\phi\\rangle$"
   ]
  },
  {
   "cell_type": "code",
   "execution_count": 12,
   "id": "edc5e095-f586-43b4-885f-85a140499b8b",
   "metadata": {},
   "outputs": [],
   "source": [
    "H = 1/2**0.5 * np.array([[1, 1],\n",
    "                         [1,-1]])"
   ]
  },
  {
   "cell_type": "code",
   "execution_count": 13,
   "id": "d9017a1d-8bc4-4e00-a5da-a2b1cd2f9cd4",
   "metadata": {},
   "outputs": [
    {
     "data": {
      "text/plain": [
       "array([[1.],\n",
       "       [0.]])"
      ]
     },
     "execution_count": 13,
     "metadata": {},
     "output_type": "execute_result"
    }
   ],
   "source": [
    "H @ phi"
   ]
  },
  {
   "cell_type": "markdown",
   "id": "9ca27ac8-84d9-498e-8461-3363163737cb",
   "metadata": {},
   "source": [
    "# Measurement\n",
    "\n",
    "การวัด(Measurement) คือการแปลง ข้อมูลเชิงควอนตัม(Quantum information) ที่อยู่ในระบบควอนตัมซึ่งอยู่ในรูปเวคเตอร์ให้อยู่ในรูปของ ข้อมูลดั้งเดิม(Classical information) โดยมีผลลัพธ์เป็นความน่าจะเป็นว่า**สถานะควอนตัมที่สนใจ**จะกลายเป็น**สถานะที่ต้องการวัด**เท่าไดเมื่อถูกวัด\n",
    "\n",
    "โดยวิธีการวัดเราจะใช้ อินเนอร์โปรดัคท์กับสถานะ 1 คิวบิต โดย\n",
    "- ความน่าจะเป็นที่ สถานะ $\\lvert\\phi\\rangle$ จะกลายเป็น $\\lvert0\\rangle$ เมื่อถูกวัด คือ $|\\langle0\\rvert\\phi\\rangle|^2$\n",
    "\n",
    "- ความน่าจะเป็นที่ สถานะ $\\lvert\\phi\\rangle$ จะกลายเป็น $\\lvert1\\rangle$ เมื่อถูกวัด คือ $|\\langle1\\rvert\\phi\\rangle|^2$\n",
    "\n",
    "ดังนั้นการวัดความน่าจะเป็นสามารถแทนด้วย ค่าสัมบูรณ์กำลังสอง(squared absolute values) ของอินเนอร์โปรดัคท์"
   ]
  },
  {
   "cell_type": "code",
   "execution_count": null,
   "id": "4c99cc1e-0cdf-43bb-96bd-b6370a478612",
   "metadata": {},
   "outputs": [],
   "source": []
  }
 ],
 "metadata": {
  "kernelspec": {
   "display_name": "AIML",
   "language": "python",
   "name": "aiml"
  },
  "language_info": {
   "codemirror_mode": {
    "name": "ipython",
    "version": 3
   },
   "file_extension": ".py",
   "mimetype": "text/x-python",
   "name": "python",
   "nbconvert_exporter": "python",
   "pygments_lexer": "ipython3",
   "version": "3.8.12"
  }
 },
 "nbformat": 4,
 "nbformat_minor": 5
}
