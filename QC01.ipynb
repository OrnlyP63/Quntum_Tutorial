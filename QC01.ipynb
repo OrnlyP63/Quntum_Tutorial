{
 "cells": [
  {
   "cell_type": "markdown",
   "id": "6974e706-86d9-4479-8888-80cbd7c90d0b",
   "metadata": {},
   "source": [
    "# Quantum Computing (บท 1)\n",
    "\n",
    "การคำนวณเชิงควอนตัม (Quantum Computing) คือ การใช้คุณสมบัติจาก กลศาสตร์ควอนตัม (Quantum Machanic) เช่น superposition, entanglement, quantum tunneling เพื่อเพิ่มประสิทธิภาพในการคำนวณ ซึ่งลดเวลาในการคำนวณจากคอมพิวเตอร์ปกติอย่างมาก"
   ]
  },
  {
   "cell_type": "markdown",
   "id": "3fc8041b-25b0-4e69-9185-1859fa1a36bf",
   "metadata": {},
   "source": [
    "การคำนวณเชิงควอนตัมจะใช้ สถานะทางควอนตัน (Quantum states) ที่แสดงด้วย เวคเตอร์ของจำนวนเชิงซ้อน (Complex vecotr) เพื่อการคำนวณแทนที่จะใช้ เลขฐานสอง (Binary number) เหมือนคอนพิวเตอร์ปกติ"
   ]
  },
  {
   "cell_type": "markdown",
   "id": "f18b627b-8515-42de-a656-36b16c5256bd",
   "metadata": {
    "tags": []
   },
   "source": [
    "## 1. The qubit\n",
    "\n",
    "คิวบิต (qubit) ย่อมาจาก ควอนตัมบิต (Quantum bit) ซึ่งเป็นตัวแทน สถานะทางควอนตัม สามารถเขียนให้อยู่ในรูป เวคเตอร์ของจำนวนเชิงซ้อน 2 มิติ นิยามได้ดังนี้\n",
    "\n",
    "$$\\lvert\\phi\\rangle = \\alpha\\lvert 0\\rangle + \\beta\\lvert 1\\rangle$$\n",
    "\n",
    "โดยที่ $\\alpha, \\beta$ เป็นจำนวนเชิงซ้อน (Complex number) ซึ่ง $|\\alpha|^2 + |\\beta|^2 = 1$ \n",
    "\n",
    "และ $\\lvert 0\\rangle = \\begin{bmatrix}1\\\\0\\end{bmatrix}, \\lvert 1\\rangle = \\begin{bmatrix}0\\\\1\\end{bmatrix}$ (ถูกเรียกว่า ket 0, ket 1 ตามลำดับ)\n",
    "\n",
    "เราจะสังเกตเห็นได้ว่า $\\lvert\\phi\\rangle$ เป็นการผสมของสถานะ $\\lvert 0\\rangle, \\lvert 1\\rangle$ \n",
    "\n",
    "และ $|\\alpha|^2$ คือค่าความน่าจะเป็น ที่ $\\phi$ จะคืนค่าสถานะเป็น $\\lvert 0\\rangle$ เมื่อ $\\phi$ ถูกวัด (Measuring a qubit)\n",
    "\n",
    "และ $|\\beta|^2$ คือค่าความน่าจะเป็น ที่ $\\phi$ จะคืนค่าสถานะเป็น $\\lvert 1\\rangle$  เมื่อ $\\phi$ ถูกวัด (Measuring a qubit)"
   ]
  },
  {
   "cell_type": "code",
   "execution_count": 1,
   "id": "f65d816f-a7ad-491d-8e3c-b729269d8924",
   "metadata": {},
   "outputs": [],
   "source": [
    "import numpy as np #lib สำหรับสร้าง เวคเตอร์และการคำนวณเชิงเวคเตอร์"
   ]
  },
  {
   "cell_type": "code",
   "execution_count": 2,
   "id": "45e888cc-9a73-4b2d-b335-ff010a26bcbe",
   "metadata": {},
   "outputs": [],
   "source": [
    "#มาลองสร้าง qubit กัน\n",
    "\n",
    "#สร้าง ket\n",
    "ket_0 = np.array([[1], [0]])\n",
    "ket_1 = np.array([[0], [1]])\n",
    "\n",
    "#สร้าง alpha, beta\n",
    "alpha = 1 / (2**0.5)\n",
    "beta = 1 / (2**0.5)"
   ]
  },
  {
   "cell_type": "code",
   "execution_count": 3,
   "id": "62de2d1b-d3ee-4a08-8fbf-f177a430fcf7",
   "metadata": {},
   "outputs": [
    {
     "data": {
      "text/plain": [
       "0.9999999999999998"
      ]
     },
     "execution_count": 3,
     "metadata": {},
     "output_type": "execute_result"
    }
   ],
   "source": [
    "#พิสูจน์ว่า  alpha ** 2 + beta ** 2 == 1\n",
    "alpha ** 2 + beta ** 2"
   ]
  },
  {
   "cell_type": "code",
   "execution_count": 4,
   "id": "07a6518d-b549-4f72-84cf-d22607b7136f",
   "metadata": {},
   "outputs": [
    {
     "name": "stdout",
     "output_type": "stream",
     "text": [
      "[[0.70710678]\n",
      " [0.70710678]]\n"
     ]
    }
   ],
   "source": [
    "#สร้าง qubit  phi\n",
    "phi = alpha * ket_0 + beta * ket_1\n",
    "print(phi)"
   ]
  },
  {
   "cell_type": "markdown",
   "id": "6d613a9a-1f30-4847-94ed-3d1e74931bdc",
   "metadata": {},
   "source": [
    "# 2. System of qubits\n",
    "\n",
    "สถานะของระบบควอนตัมไดๆ เป็นเวคเตอร์มาตรฐาน (normalized vector) ในปริภูมิเชิงซ้อน (complex vector space) ทำให้ผลรวมความน่าจะเป็นของแต่ละสถานะมีผลรวมเท่ากับ $1$\n",
    "\n",
    "ในควอนตัมคอมพิวเตอร์ (Quantum Computer) สามารถมีจำนวนคิวบิตได้มากกว่า $1$ เรียกว่า ระบบของคิวบิต (System of qubits) ซึ่งทำให้เกิดสถานะทางควอนตัมเพิ่มขึ้นมาเป็น $2^n$ เมื่อ $n$ เป็นจำนวนคิวบิตในระบบคิวบิต\n",
    "\n",
    "เราสามารถสร้างสถานะทางควอนตัมของระบบคิวบิตที่มีสองคิวบิต โดยใช้ เทนเซอร์โปรดัคท์ (tensor product, $\\otimes$) นิยามได้ดังนี้\n",
    "\n",
    "\n",
    "ให้ $\\lvert\\phi\\rangle = \\begin{bmatrix}\\alpha\\\\ \\beta\\end{bmatrix}$ และ\n",
    "$\\lvert\\acute{\\phi}\\rangle = \\begin{bmatrix}\\acute{\\alpha}\\\\ \\acute{\\beta}\\end{bmatrix}$ แล้ว\n",
    "\n",
    "$$\\lvert\\phi\\rangle\\otimes\\lvert\\acute{\\phi}\\rangle =  \\begin{bmatrix}\\alpha\\\\ \\beta\\end{bmatrix} \\otimes\\begin{bmatrix}\\acute{\\alpha}\\\\ \\acute{\\beta}\\end{bmatrix} = \\begin{bmatrix}\\alpha\\acute{\\alpha}\\\\ \\alpha\\acute{\\beta}\\\\ \\beta\\acute{\\alpha}\\\\ \\beta\\acute{\\beta}\\end{bmatrix}$$\n",
    "\n",
    "โดยทั่วไปเราสามารถเขียนเทนเซอร์โปรดัคท์ของสองคิวบิตแบบสั้นได้ดังนี้ $\\lvert\\phi\\rangle\\otimes\\lvert\\acute{\\phi}\\rangle = \\lvert \\phi\\acute{\\phi}\\rangle$ ซึ่งการคำนวณเทนเซอร์โปรดัคท์ของ $2$ คิวบิตถูกเรียกว่า Kronecker product\n",
    "\n",
    "ตัวอย่างโค้ด \n",
    "1. จงคำนวณ $\\lvert 10 \\rangle$\n",
    "2. จงคำนวณ $\\lvert 000 \\rangle$"
   ]
  },
  {
   "cell_type": "code",
   "execution_count": 6,
   "id": "fe9a4e19-5665-44fb-91da-10651b7cad5b",
   "metadata": {},
   "outputs": [
    {
     "data": {
      "text/plain": [
       "array([[0],\n",
       "       [1],\n",
       "       [0],\n",
       "       [0]])"
      ]
     },
     "execution_count": 6,
     "metadata": {},
     "output_type": "execute_result"
    }
   ],
   "source": [
    "#ข้อ 1\n",
    "np.kron(ket_0,ket_1)"
   ]
  },
  {
   "cell_type": "code",
   "execution_count": 12,
   "id": "6bf6ff51-f655-4f59-bf28-090550a6ed17",
   "metadata": {},
   "outputs": [
    {
     "data": {
      "text/plain": [
       "array([[1],\n",
       "       [0],\n",
       "       [0],\n",
       "       [0],\n",
       "       [0],\n",
       "       [0],\n",
       "       [0],\n",
       "       [0]])"
      ]
     },
     "execution_count": 12,
     "metadata": {},
     "output_type": "execute_result"
    }
   ],
   "source": [
    "#ข้อ 2\n",
    "np.kron(np.kron(ket_0, ket_0), ket_0)"
   ]
  },
  {
   "cell_type": "markdown",
   "id": "4d000a25-e54d-4166-a676-c84f8abc69b3",
   "metadata": {},
   "source": [
    "สถานะใหม่ของระบบของคิวบิตที่ถูกนิยามด้วยการคูณเทนเซอร์โปรดัคท์ของสถานะทั้งหมดในระบบ จะถูกเรียกว่า สถานะร่วม (joint state)\n",
    "\n",
    "ตัวอย่างของ สถานะร่วม\n",
    "\n",
    "กำหนดให้ $\\lvert \\gamma_j\\rangle = \\alpha_j\\lvert 0\\rangle + \\beta_j \\lvert 1\\rangle$ สำหรับ $j = 1,2,3$ สถานะร่วมของสามคิวบิตนี้คือ\n",
    "\n",
    "$\\begin{align}\\lvert \\gamma_1\\gamma_2\\gamma_3\\rangle &=\n",
    "\\lvert\\gamma_1\\rangle\\otimes\\lvert\\gamma_2\\rangle\\otimes\\lvert\\gamma_3\\rangle\\\\\n",
    "&=\\alpha_1\\alpha_2\\alpha_3\\lvert 000\\rangle+\n",
    "\\alpha_1\\alpha_2\\beta_3\\lvert 001\\rangle+\n",
    "\\alpha_1\\beta_2\\alpha_3\\lvert 010\\rangle+\n",
    "\\beta_1\\alpha_2\\alpha_3\\lvert 100\\rangle\\\\\n",
    "&+\\beta_1\\beta_2\\beta_3\\lvert 111\\rangle+\n",
    "\\beta_1\\beta_2\\alpha_3\\lvert 110\\rangle+\n",
    "\\beta_1\\alpha_2\\beta_3\\lvert 101\\rangle+\n",
    "\\alpha_1\\beta_2\\beta_3\\lvert 011\\rangle\n",
    "\\end{align}$\n",
    "\n",
    "จะเห็นได้ว่า ระบบคิวบิตข้างต้นมี $3$ คิวบิตทำให้มีสถานะทั้งหมดคือ $2^3 = 8$ สถานะ\n",
    "\n",
    "และแต่ละสถานะมีค่าความน่าจะเป็นของตัวเองตามสมการ\n",
    "\n",
    "ตัวอย่างโค้ด \n",
    "\n",
    "3. กำหนดให้ $\\lvert\\phi\\rangle = \\frac{1}{\\sqrt{2}}\\lvert 0\\rangle + \\frac{1}{\\sqrt{2}}\\lvert 1\\rangle$ จงคำนวณ $\\lvert\\phi 0 1\\rangle$"
   ]
  },
  {
   "cell_type": "code",
   "execution_count": 13,
   "id": "c7286e3a-8ef5-47a4-bb1c-660399ce9c0f",
   "metadata": {},
   "outputs": [
    {
     "data": {
      "text/plain": [
       "array([[0.        ],\n",
       "       [0.70710678],\n",
       "       [0.        ],\n",
       "       [0.        ],\n",
       "       [0.        ],\n",
       "       [0.70710678],\n",
       "       [0.        ],\n",
       "       [0.        ]])"
      ]
     },
     "execution_count": 13,
     "metadata": {},
     "output_type": "execute_result"
    }
   ],
   "source": [
    "#ข้อ 3\n",
    "np.kron(np.kron(phi, ket_0), ket_1)"
   ]
  },
  {
   "cell_type": "code",
   "execution_count": null,
   "id": "55e76563-d4f7-472e-8735-fed05cbf440c",
   "metadata": {},
   "outputs": [],
   "source": []
  }
 ],
 "metadata": {
  "kernelspec": {
   "display_name": "AIML",
   "language": "python",
   "name": "aiml"
  },
  "language_info": {
   "codemirror_mode": {
    "name": "ipython",
    "version": 3
   },
   "file_extension": ".py",
   "mimetype": "text/x-python",
   "name": "python",
   "nbconvert_exporter": "python",
   "pygments_lexer": "ipython3",
   "version": "3.8.12"
  }
 },
 "nbformat": 4,
 "nbformat_minor": 5
}
