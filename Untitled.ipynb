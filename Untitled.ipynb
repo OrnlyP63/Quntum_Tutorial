{
 "cells": [
  {
   "cell_type": "markdown",
   "id": "6974e706-86d9-4479-8888-80cbd7c90d0b",
   "metadata": {},
   "source": [
    "# Quantum Computing (บท 1)\n",
    "\n",
    "การคำนวณเชิงควอนตัม (Quantum Computing) คือ การใช้คุณสมบัติจาก กลศาสตร์ควอนตัม (Quantum Machanic) เช่น superposition, entanglement, quantum tunneling เพื่อเพิ่มประสิทธิภาพในการคำนวณ ซึ่งลดเวลาในการคำนวณจากคอมพิวเตอร์ปกติอย่างมาก"
   ]
  },
  {
   "cell_type": "markdown",
   "id": "3fc8041b-25b0-4e69-9185-1859fa1a36bf",
   "metadata": {},
   "source": [
    "การคำนวณเชิงควอนตัมจะใช้ สถานะทางควอนตัน (Quantum states) ที่แสดงด้วย เวคเตอร์ของจำนวนเชิงซ้อน (Complex vecotr) เพื่อการคำนวณแทนที่จะใช้ เลขฐานสอง (Binary number) เหมือนคอนพิวเตอร์ปกติ"
   ]
  },
  {
   "cell_type": "markdown",
   "id": "f18b627b-8515-42de-a656-36b16c5256bd",
   "metadata": {
    "tags": []
   },
   "source": [
    "## 1. The qubit\n",
    "\n",
    "คิวบิต (qubit) ย่อมาจาก ควอนตัมบิต (Quantum bit) ซึ่งเป็นตัวแทน สถานะทางควอนตัม สามารถเขียนให้อยู่ในรูป เวคเตอร์ของจำนวนเชิงซ้อน 2 มิติ นิยามได้ดังนี้\n",
    "\n",
    "$$\\lvert\\phi\\rangle = \\alpha\\lvert 0\\rangle + \\beta\\lvert 1\\rangle$$\n",
    "\n",
    "โดยที่ $\\alpha, \\beta$ เป็นจำนวนเชิงซ้อน (Complex number) ซึ่ง $|\\alpha|^2 + |\\beta|^2 = 1$ \n",
    "\n",
    "และ $\\lvert 0\\rangle = \\begin{bmatrix}1\\\\0\\end{bmatrix}, \\lvert 1\\rangle = \\begin{bmatrix}0\\\\1\\end{bmatrix}$ (ถูกเรียกว่า ket 0, ket 1 ตามลำดับ)\n",
    "\n",
    "เราจะสังเกตเห็นได้ว่า $\\lvert\\phi\\rangle$ เป็นการผสมของสถานะ $\\lvert 0\\rangle, \\lvert 1\\rangle$ \n",
    "\n",
    "และ $|\\alpha|^2$ คือค่าความน่าจะเป็น ที่ $\\phi$ จะคืนค่าสถานะเป็น $\\lvert 0\\rangle$ เมื่อ $\\phi$ ถูกวัด (Measuring a qubit)\n",
    "\n",
    "และ $|\\beta|^2$ คือค่าความน่าจะเป็น ที่ $\\phi$ จะคืนค่าสถานะเป็น $\\lvert 1\\rangle$  เมื่อ $\\phi$ ถูกวัด (Measuring a qubit)"
   ]
  },
  {
   "cell_type": "code",
   "execution_count": 1,
   "id": "f65d816f-a7ad-491d-8e3c-b729269d8924",
   "metadata": {},
   "outputs": [],
   "source": [
    "import numpy as np #lib สำหรับสร้าง เวคเตอร์และการคำนวณเชิงเวคเตอร์"
   ]
  },
  {
   "cell_type": "code",
   "execution_count": 3,
   "id": "45e888cc-9a73-4b2d-b335-ff010a26bcbe",
   "metadata": {},
   "outputs": [],
   "source": [
    "#มาลองสร้าง qubit กัน\n",
    "\n",
    "#สร้าง ket\n",
    "ket_0 = np.array([[1], [0]])\n",
    "ket_1 = np.array([[0], [1]])\n",
    "\n",
    "#สร้าง alpha, beta\n",
    "alpha = 1 / (2**0.5)\n",
    "beta = 1 / (2**0.5)"
   ]
  },
  {
   "cell_type": "code",
   "execution_count": 4,
   "id": "62de2d1b-d3ee-4a08-8fbf-f177a430fcf7",
   "metadata": {},
   "outputs": [
    {
     "data": {
      "text/plain": [
       "0.9999999999999998"
      ]
     },
     "execution_count": 4,
     "metadata": {},
     "output_type": "execute_result"
    }
   ],
   "source": [
    "#พิสูจน์ว่า  alpha ** 2 + beta ** 2 == 1\n",
    "alpha ** 2 + beta ** 2"
   ]
  },
  {
   "cell_type": "code",
   "execution_count": 6,
   "id": "07a6518d-b549-4f72-84cf-d22607b7136f",
   "metadata": {},
   "outputs": [
    {
     "name": "stdout",
     "output_type": "stream",
     "text": [
      "[[0.70710678]\n",
      " [0.70710678]]\n"
     ]
    }
   ],
   "source": [
    "#สร้าง qubit  phi\n",
    "phi = alpha * ket_0 + beta * ket_1\n",
    "print(phi)"
   ]
  },
  {
   "cell_type": "code",
   "execution_count": null,
   "id": "0897d711-3e17-4081-8d9c-b5120013fa65",
   "metadata": {},
   "outputs": [],
   "source": []
  }
 ],
 "metadata": {
  "kernelspec": {
   "display_name": "AIML",
   "language": "python",
   "name": "aiml"
  },
  "language_info": {
   "codemirror_mode": {
    "name": "ipython",
    "version": 3
   },
   "file_extension": ".py",
   "mimetype": "text/x-python",
   "name": "python",
   "nbconvert_exporter": "python",
   "pygments_lexer": "ipython3",
   "version": "3.8.12"
  }
 },
 "nbformat": 4,
 "nbformat_minor": 5
}
